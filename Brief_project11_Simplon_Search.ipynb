{
 "cells": [
  {
   "cell_type": "markdown",
   "metadata": {},
   "source": [
    "<h3 style=\"text-decoration: underline\"><center>Brief Project : Simplon Search</h3>"
   ]
  },
  {
   "cell_type": "code",
   "execution_count": 44,
   "metadata": {},
   "outputs": [],
   "source": [
    "import re \n",
    "from re import *"
   ]
  },
  {
   "cell_type": "markdown",
   "metadata": {},
   "source": [
    "<h3 style=\"text-decoration: underline\">1.Trouver toutes les occurences d'un mot dont une lettre peut manquer</h3>"
   ]
  },
  {
   "cell_type": "code",
   "execution_count": 45,
   "metadata": {},
   "outputs": [],
   "source": [
    "# This function takes a sentence s and a word s and returns a list of word existing in s.\n",
    "# The word could be exactly the same as given or could have one letter missing\n",
    "def almost(word, s): \n",
    "    \n",
    "    # We replace commas with empty string to dissociate the word from the commas\n",
    "    s = s.replace(\",\",\"\")\n",
    "    \n",
    "    # We replace the last dot with a space to dissociate the word from the dot. \n",
    "    # Furthermore, we will consider a word if it has a space before its first letter and a space after its last letter\n",
    "    s = s.replace(\".\",\" \")\n",
    "    s = \" \" +s\n",
    "    \n",
    "    \n",
    "    # We search for all exact word (starting and ending with a space) present in the s string.\n",
    "    found = findall(\"\\s\"+word+\"\\s\", s)\n",
    "    \n",
    "    # To deal with words that may lack one letter we pass the word through a for loop \n",
    "    for i in range(len(word)): \n",
    "        \n",
    "        # The pattern has a space before and after its first and last letter\n",
    "        # The possible patterne could be all those words missing a letter at any i position\n",
    "        pattern = \" \" + word[:i] + word[i+1:] + \" \" \n",
    "        \n",
    "        # We increment the list of exact word found before the for loop with the list of approximative words (lacking one letter)\n",
    "        found += findall(pattern, s)\n",
    "        \n",
    "    # We print all occurences of found pattern    \n",
    "    print(found)"
   ]
  },
  {
   "cell_type": "code",
   "execution_count": 46,
   "metadata": {},
   "outputs": [],
   "source": [
    "s= \"Les etrois tris, lys trois gros, les troisx roi.\"\n",
    "word = \"trois\""
   ]
  },
  {
   "cell_type": "code",
   "execution_count": 47,
   "metadata": {},
   "outputs": [
    {
     "name": "stdout",
     "output_type": "stream",
     "text": [
      "[' trois ', ' tris ']\n"
     ]
    }
   ],
   "source": [
    "almost(word,s)"
   ]
  },
  {
   "cell_type": "markdown",
   "metadata": {},
   "source": [
    "<h3 style=\"text-decoration: underline\">2.Trouver toutes les occurences d'un mot dont une lettre peut être remplacée, ajoutée ou manquée</h3>"
   ]
  },
  {
   "cell_type": "code",
   "execution_count": 62,
   "metadata": {},
   "outputs": [],
   "source": [
    "# This function search for different occurences of the word in s. \n",
    "# The word could be exactly the same, or could have one letter added at the end, \n",
    "# or one letter missing, or one extra letter inside the word. \n",
    "# It returns a list of word present in s that match the word approximately\n",
    "def larger(word, s):\n",
    "    \n",
    "    # We add a space before the start and one after the end of the sentence\n",
    "    # and replace dots and commas with an empty string \n",
    "    s = \" \" + sub(\"[.,]\", \"\", s) + \" \"\n",
    "    \n",
    "    # We search for all words in s containing the first argument pattern\n",
    "    # We look at all words starting with a white space and finishing with a white space \n",
    "    # and that are strictly specific to the word. The result will be output in a list\n",
    "    # By adding parenthesis at this place the output doesn't consider the surrounding white space\n",
    "    # but only the word\n",
    "    # EXACT WORD\n",
    "    found = findall(\"\\s(\" + word + \")\\s\", s)\n",
    "    \n",
    "    # Then we append to the list the result of finding in s all the pattern that sart and finish with a white space\n",
    "    # The core pattern is made of the word that joins any single character which is not a white space\n",
    "    # WORD WITH AN EXTRA LETTER AT THE END\n",
    "    found +=findall('\\s('+word+\"[^\\s]\"+\")\\s\",s)\n",
    "    \n",
    "    # Then we look for words with an EXTRA LETTER INSIDE the word \n",
    "    # OR a word with a LETTER MISSING INSIDE the word \n",
    "    # To do this we have to pass by a for loop to consider each letter position\n",
    "    for i in range(len(word)):\n",
    "        \n",
    "        # This will look for a word with possibly the ith letter that could be present 0 or 1 time (?)\n",
    "        # Brackets position is important too.\n",
    "        found += findall(\"\\s(\" + word[:i] + \"[^\" + word[i] + \"]?\" + word[i + 1:] + \")\\s\", s)\n",
    "        \n",
    "        # This will look for a word with any single character but not a white space added before the ith letter of the word\n",
    "        found += findall(\"\\s(\" + word[:i] + \"[^\\s]\" + word[i:] + \")\\s\", s)\n",
    "    return found"
   ]
  },
  {
   "cell_type": "code",
   "execution_count": null,
   "metadata": {},
   "outputs": [],
   "source": [
    "s= \"Les etrois tris, lys trois gros, les troisx roi.\"\n",
    "word = \"trois\""
   ]
  },
  {
   "cell_type": "code",
   "execution_count": 65,
   "metadata": {},
   "outputs": [
    {
     "data": {
      "text/plain": [
       "['trois', 'troisx', 'etrois', 'tris']"
      ]
     },
     "execution_count": 65,
     "metadata": {},
     "output_type": "execute_result"
    }
   ],
   "source": [
    "larger(word,s)"
   ]
  },
  {
   "cell_type": "markdown",
   "metadata": {},
   "source": [
    "<h3 style=\"text-decoration: underline\">3.Établir un score en fonction de la présence et de l'exactitude des mots</h3>"
   ]
  },
  {
   "cell_type": "code",
   "execution_count": 76,
   "metadata": {},
   "outputs": [],
   "source": [
    "# This function takes a sentence p (phrase) and gives it a score depending on word presence in another sentence s. \n",
    "# 5 points for an exact word, 1 point for an approximated word. \n",
    "def score(p,s):\n",
    "    \n",
    "    # We initialise a score variable to 0 \n",
    "    score = 0 \n",
    "    \n",
    "    # We deal with entry sentences p and s to add white space before and after each sentence\n",
    "    # We also replace dots and commas with empty string \n",
    "    s = \" \" + sub(\"[.,]\", \"\", s) + \" \"\n",
    "    p = \" \" + sub(\"[.,]\", \"\", p) + \" \"\n",
    "\n",
    "    # We split the p sentence\n",
    "    # Returns a list of word\n",
    "    p_list = p.split()\n",
    "    \n",
    "    # We pass by a for loop to check if each word in p could be present in s\n",
    "    for word in p_list: \n",
    "        \n",
    "        # We check for all the possible words by applying the previous larger function\n",
    "        list_found = larger(word,s)\n",
    "        \n",
    "        # If the word is in a the p_list and in the list_found\n",
    "        # Then we add 5 if it is an exact word, and 1 if it is an approximated one\n",
    "        for words in list_found:  \n",
    "            score += 5 if words in p else 1\n",
    "                \n",
    "    return score "
   ]
  },
  {
   "cell_type": "code",
   "execution_count": 77,
   "metadata": {},
   "outputs": [
    {
     "data": {
      "text/plain": [
       "11"
      ]
     },
     "execution_count": 77,
     "metadata": {},
     "output_type": "execute_result"
    }
   ],
   "source": [
    "p = \"Le petit bonhomme en mousse\"\n",
    "s = \"Ce superbe matelas en mousse naturelle.\"\n",
    "\n",
    "score(p,s)"
   ]
  },
  {
   "cell_type": "markdown",
   "metadata": {},
   "source": [
    "<h3 style=\"text-decoration: underline\">4.Donner un bonus si deux mos successifs sont repérés</h3>"
   ]
  },
  {
   "cell_type": "code",
   "execution_count": 87,
   "metadata": {},
   "outputs": [],
   "source": [
    "# This function is derived from the previous. \n",
    "# It just add 20 to the score if two words are successive in p and s. \n",
    "def score2(p,s):\n",
    "    \n",
    "    score = 0 \n",
    "    \n",
    "    s = \" \" + sub(\"[.,]\", \"\", s) + \" \"\n",
    "    p = \" \" + sub(\"[.,]\", \"\", p) + \" \"\n",
    "\n",
    "    # We split the p sentence\n",
    "    # Returns a list of word\n",
    "    p_list = p.split()\n",
    "    \n",
    "    # We pass by a for loop to check if each word in p could be present in s\n",
    "    for word in p_list: \n",
    "        \n",
    "        # We check for all the possible words by applying the previous larger function \n",
    "        # If the word is in a the p_list and in the list_found\n",
    "        # Then we add 5 if it is an exact word, and 1 if it is an approximated one\n",
    "        for words in larger(word, s):  \n",
    "            score += 5 if words in p else 1\n",
    "            \n",
    "        # We check if two successive words in p appears samely in s\n",
    "        # If so, we add 20 to the score\n",
    "        for x in range(len(p_list)-1): \n",
    "            if \" \"+ p_list[x] + \" \" + p_list[x+1] + \" \" in s: \n",
    "                score += 20\n",
    "                \n",
    "    return score "
   ]
  },
  {
   "cell_type": "code",
   "execution_count": 90,
   "metadata": {},
   "outputs": [
    {
     "data": {
      "text/plain": [
       "111"
      ]
     },
     "execution_count": 90,
     "metadata": {},
     "output_type": "execute_result"
    }
   ],
   "source": [
    "p = \"Le petit bonhomme en mousse\"\n",
    "s = \"Ce superbe matelas en mousse naturelle.\"\n",
    "\n",
    "score2(p,s)"
   ]
  },
  {
   "cell_type": "markdown",
   "metadata": {},
   "source": [
    "<h3 style=\"text-decoration: underline\">5.Application sur un ensemble de fichiers</h3>"
   ]
  },
  {
   "cell_type": "code",
   "execution_count": 97,
   "metadata": {},
   "outputs": [
    {
     "name": "stdout",
     "output_type": "stream",
     "text": [
      "Matplotlib.txt : 75\n",
      "Pandas.txt : 71\n",
      "Seaborn.txt : 40\n",
      "Numpy.txt : 38\n"
     ]
    }
   ],
   "source": [
    "# This code applies previous functions on a set of text files available in text_folder\n",
    "# We must give output a score and the higher it is, the more the file related to that score \n",
    "# has the corresponding search in it\n",
    "\n",
    "# We import the os module to be able to work with file and directories\n",
    "import os \n",
    "\n",
    "# os.listdir() returns a list containing name of every file in the folder\n",
    "files_list = os.listdir(\"text_folder\")\n",
    "\n",
    "# We initialise a empty results variable as a dictionnary that will contain\n",
    "# key(text file name) : value(score associated) pairs\n",
    "results = {}\n",
    "\n",
    "# The search pattern we are looking for in the text files \n",
    "search = \"analyse et visualisation\"\n",
    "\n",
    "# We loop over each file in files_list\n",
    "for file in files_list :\n",
    "    \n",
    "    # We open the file \n",
    "    current_file = open(\"text_folder/\"+file, \"r\", encoding = \"utf-8\")\n",
    "    \n",
    "    # We read the file \n",
    "    current_file = current_file.read()\n",
    "    \n",
    "    # We apply the score function to the file, searching for the search pattern\n",
    "    results[file] = score(search, current_file)\n",
    "\n",
    "# Finally we sort the dictionnary, we apply a lambda function to sort it by the value \n",
    "final = sorted(results.items(),key=lambda item: item[1], reverse = True)\n",
    "\n",
    "# We do a for loop to print files name and their score. \n",
    "for i, j in final: \n",
    "    print(i + \" : \" + str(j))"
   ]
  },
  {
   "cell_type": "code",
   "execution_count": null,
   "metadata": {},
   "outputs": [],
   "source": []
  }
 ],
 "metadata": {
  "kernelspec": {
   "display_name": "Python 3",
   "language": "python",
   "name": "python3"
  },
  "language_info": {
   "codemirror_mode": {
    "name": "ipython",
    "version": 3
   },
   "file_extension": ".py",
   "mimetype": "text/x-python",
   "name": "python",
   "nbconvert_exporter": "python",
   "pygments_lexer": "ipython3",
   "version": "3.8.5"
  }
 },
 "nbformat": 4,
 "nbformat_minor": 4
}
