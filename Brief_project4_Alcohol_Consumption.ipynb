{
 "cells": [
  {
   "cell_type": "markdown",
   "metadata": {},
   "source": [
    "<h3 style =\"text-decoration: underline\"><center>Brief project : Analyse de la consommation mondiale d'alcool.</h3>\n"
   ]
  },
  {
   "cell_type": "markdown",
   "metadata": {},
   "source": [
    "Mission: \n",
    "- Analyser la consommation moyenne d'alcool par pays. \n",
    "- Pour ce faire nous allons travailler sur le fichier \"world_alcohol.csv\" qui contient 4 variables. \n",
    "    - l'année\n",
    "    - la zone géographique ou le continent \n",
    "    - le pays\n",
    "    - la quantité moyenne d'alcool consommée par habitant "
   ]
  },
  {
   "cell_type": "markdown",
   "metadata": {},
   "source": [
    "### Première partie: Lire les données et récupérer les valeurs du tableau correspondant à une condition donnée (un pays ou une année). "
   ]
  },
  {
   "cell_type": "code",
   "execution_count": 2,
   "metadata": {},
   "outputs": [
    {
     "name": "stdout",
     "output_type": "stream",
     "text": [
      "[['1986' 'Western Pacific' 'Viet Nam' 'Wine' '0']\n",
      " ['1986' 'Americas' 'Uruguay' 'Other' '0.5']\n",
      " ['1985' 'Africa' \"Cte d'Ivoire\" 'Wine' '1.62']\n",
      " ...\n",
      " ['1986' 'Europe' 'Switzerland' 'Spirits' '2.54']\n",
      " ['1987' 'Western Pacific' 'Papua New Guinea' 'Other' '0']\n",
      " ['1986' 'Africa' 'Swaziland' 'Other' '5.15']]\n"
     ]
    }
   ],
   "source": [
    "# Commençons par lire le dataset world_alcohol.csv dans la variable \"world_alcohol\".\n",
    "\n",
    "import numpy as np \n",
    "world_alcohol = np.genfromtxt(\"world_alcohol.csv\", delimiter =\",\", dtype = str, skip_header = True)\n",
    "print(world_alcohol)"
   ]
  },
  {
   "cell_type": "code",
   "execution_count": 7,
   "metadata": {},
   "outputs": [
    {
     "name": "stdout",
     "output_type": "stream",
     "text": [
      "[['1984' 'Americas' 'Canada' 'Spirits' '3.35']\n",
      " ['1989' 'Americas' 'Canada' 'Wine' '1.27']\n",
      " ['1984' 'Americas' 'Canada' 'Beer' '5']\n",
      " ['1985' 'Americas' 'Canada' 'Beer' '4.94']\n",
      " ['1987' 'Americas' 'Canada' 'Wine' '1.3']\n",
      " ['1987' 'Americas' 'Canada' 'Beer' '4.83']\n",
      " ['1986' 'Americas' 'Canada' 'Other' '']\n",
      " ['1986' 'Americas' 'Canada' 'Spirits' '3.11']\n",
      " ['1985' 'Americas' 'Canada' 'Spirits' '3.21']\n",
      " ['1985' 'Americas' 'Canada' 'Other' '']\n",
      " ['1986' 'Americas' 'Canada' 'Beer' '4.87']\n",
      " ['1984' 'Americas' 'Canada' 'Wine' '1.24']\n",
      " ['1989' 'Americas' 'Canada' 'Spirits' '2.91']\n",
      " ['1984' 'Americas' 'Canada' 'Other' '']\n",
      " ['1985' 'Americas' 'Canada' 'Wine' '1.29']\n",
      " ['1987' 'Americas' 'Canada' 'Spirits' '2.99']\n",
      " ['1989' 'Americas' 'Canada' 'Beer' '4.82']\n",
      " ['1989' 'Americas' 'Canada' 'Other' '']\n",
      " ['1986' 'Americas' 'Canada' 'Wine' '1.33']\n",
      " ['1987' 'Americas' 'Canada' 'Other' '']]\n",
      "\n",
      "(20, 5)\n"
     ]
    }
   ],
   "source": [
    "# Isolons le sous-tableau contenant uniquement les lignes concernant le Canada et assignons le à \"country_canada\". \n",
    "\n",
    "# On crée d'abord un masque qui renvoi un booléen en fonction de si world_alcohol contient Canada ou pas.\n",
    "country_is_canada = world_alcohol[:,2] == \"Canada\"\n",
    "\n",
    "# On applique ce masque à l'ensemble de world_alcohol pour récupérer les valeurs correspondantes. \n",
    "country_canada = world_alcohol[country_is_canada]\n",
    "print(country_canada)\n",
    "\n",
    "# On vérifie le nombre de lignes et de colonnes que possède ce sous-tableau grâce à l'attribut .shape\n",
    "print()\n",
    "print(country_canada.shape)"
   ]
  },
  {
   "cell_type": "code",
   "execution_count": 8,
   "metadata": {},
   "outputs": [
    {
     "name": "stdout",
     "output_type": "stream",
     "text": [
      "[['1984' 'Africa' 'Algeria' 'Spirits' '0.01']\n",
      " ['1987' 'Africa' 'Algeria' 'Beer' '0.17']\n",
      " ['1987' 'Africa' 'Algeria' 'Spirits' '0.01']\n",
      " ['1986' 'Africa' 'Algeria' 'Wine' '0.1']\n",
      " ['1984' 'Africa' 'Algeria' 'Other' '0']\n",
      " ['1989' 'Africa' 'Algeria' 'Beer' '0.16']\n",
      " ['1989' 'Africa' 'Algeria' 'Spirits' '0.01']\n",
      " ['1989' 'Africa' 'Algeria' 'Wine' '0.23']\n",
      " ['1986' 'Africa' 'Algeria' 'Spirits' '0.01']\n",
      " ['1984' 'Africa' 'Algeria' 'Wine' '0.12']\n",
      " ['1985' 'Africa' 'Algeria' 'Beer' '0.19']\n",
      " ['1985' 'Africa' 'Algeria' 'Other' '0']\n",
      " ['1986' 'Africa' 'Algeria' 'Beer' '0.18']\n",
      " ['1985' 'Africa' 'Algeria' 'Wine' '0.11']\n",
      " ['1986' 'Africa' 'Algeria' 'Other' '0']\n",
      " ['1989' 'Africa' 'Algeria' 'Other' '0']\n",
      " ['1987' 'Africa' 'Algeria' 'Other' '0']\n",
      " ['1984' 'Africa' 'Algeria' 'Beer' '0.2']\n",
      " ['1985' 'Africa' 'Algeria' 'Spirits' '0.01']\n",
      " ['1987' 'Africa' 'Algeria' 'Wine' '0.1']]\n",
      "\n",
      "(20, 5)\n"
     ]
    }
   ],
   "source": [
    "# On fait de même pour le pays \"Algeria\"\n",
    "country_is_algeria = world_alcohol[:,2] == \"Algeria\"\n",
    "country_algeria = world_alcohol[country_is_algeria]\n",
    "print(country_algeria)\n",
    "print()\n",
    "print(country_algeria.shape)"
   ]
  },
  {
   "cell_type": "code",
   "execution_count": 10,
   "metadata": {},
   "outputs": [
    {
     "name": "stdout",
     "output_type": "stream",
     "text": [
      "[['1984' 'Africa' 'Nigeria' 'Other' '6.1']\n",
      " ['1984' 'Eastern Mediterranean' 'Afghanistan' 'Other' '0']\n",
      " ['1984' 'Americas' 'Costa Rica' 'Wine' '0.06']\n",
      " ...\n",
      " ['1984' 'Europe' 'Latvia' 'Spirits' '7.5']\n",
      " ['1984' 'Africa' 'Angola' 'Wine' '0.57']\n",
      " ['1984' 'Africa' 'Central African Republic' 'Wine' '0.46']]\n",
      "\n",
      "(646, 5)\n"
     ]
    }
   ],
   "source": [
    "# Isolons le sous-tableau contenant uniquement les lignes concernant l'année 1984 et assignons le à \"year_1984\"\n",
    "\n",
    "year_is_1984 = world_alcohol[:,0] == \"1984\"\n",
    "years_1984 = world_alcohol[year_is_1984]\n",
    "\n",
    "# On print pour vérifier que le sous-tableau contient bien uniquement des données de l'année 1984\n",
    "print(years_1984)\n",
    "\n",
    "# On print avec l'attribut .shape pour connaitre le nombre de lignes et de colonnes de ce sous-tableau. \n",
    "print()\n",
    "print(years_1984.shape)"
   ]
  },
  {
   "cell_type": "markdown",
   "metadata": {},
   "source": [
    "### Deuxième partie: Effectuer des comparaisons avec plusieurs conditions. "
   ]
  },
  {
   "cell_type": "markdown",
   "metadata": {},
   "source": [
    "Sélectionner les lignes dont le pays est \"Algéria\" et l'année \"1986\": \n",
    "   - Créer cette double comparaison et assigner le résultat à la variable is_algeria_and_1986. \n",
    "   - Utiliser is_algeria_and_1986 pour sélectionner les lignes corrrespondantes dans le tableau world_alcohol. \n",
    "   - Assigner le résultat à la variable rows_with_algeria_and_1986\n",
    "   - Afficher le résultat. "
   ]
  },
  {
   "cell_type": "code",
   "execution_count": 13,
   "metadata": {},
   "outputs": [
    {
     "name": "stdout",
     "output_type": "stream",
     "text": [
      "[['1986' 'Africa' 'Algeria' 'Wine' '0.1']\n",
      " ['1986' 'Africa' 'Algeria' 'Spirits' '0.01']\n",
      " ['1986' 'Africa' 'Algeria' 'Beer' '0.18']\n",
      " ['1986' 'Africa' 'Algeria' 'Other' '0']]\n"
     ]
    }
   ],
   "source": [
    "# On crée d'abord le masque où le pays est Algeria et l'année est 1986. \n",
    "# On stocke le résultat booléen dans is_algéria_and_1986\n",
    "is_algeria_and_1986 = (world_alcohol[:,2] == \"Algeria\") & (world_alcohol[:,0]==\"1986\")\n",
    "\n",
    "# On applique ce masque à l'ensemble du tableau world_alcohol.\n",
    "# Ainsi, on récupère les vraies valeurs du tableau qui satisfont les deux conditions. \n",
    "rows_with_algeria_and_1986 = world_alcohol[is_algeria_and_1986]\n",
    "print(rows_with_algeria_and_1986)"
   ]
  },
  {
   "cell_type": "markdown",
   "metadata": {},
   "source": [
    "### Troisième partie: Remplacer les valeurs d'une colonne dans le tableau. "
   ]
  },
  {
   "cell_type": "markdown",
   "metadata": {},
   "source": [
    "Pour éviter de modifier les valeurs du dataset on le duplique sous un autre nom sous lequel on fera les modifications. \n",
    "- Créer un tableau world_alcohol2 qui sera une copy de world_alcohol. \n",
    "- Remplacer toutes les années \"1986\" de la première colonne de world_alcohol2 par \"2018\"."
   ]
  },
  {
   "cell_type": "code",
   "execution_count": 15,
   "metadata": {},
   "outputs": [],
   "source": [
    "# On utilise la fontion copy pour que les modifications faites sur world_alcohol2 n'affecte pas le dataset initial.\n",
    "world_alcohol2 = world_alcohol.copy()"
   ]
  },
  {
   "cell_type": "code",
   "execution_count": 20,
   "metadata": {},
   "outputs": [
    {
     "name": "stdout",
     "output_type": "stream",
     "text": [
      "[['2018' 'Western Pacific' 'Viet Nam' 'Wine' '0']\n",
      " ['2018' 'Americas' 'Uruguay' 'Other' '0.5']\n",
      " ['1985' 'Africa' \"Cte d'Ivoire\" 'Wine' '1.62']\n",
      " ...\n",
      " ['2018' 'Europe' 'Switzerland' 'Spirits' '2.54']\n",
      " ['1987' 'Western Pacific' 'Papua New Guinea' 'Other' '0']\n",
      " ['2018' 'Africa' 'Swaziland' 'Other' '5.15']]\n"
     ]
    }
   ],
   "source": [
    "# On crée un masque pour accéder à l'année 1986 de la première colonne de world_alcohol2\n",
    "masque_1986 = world_alcohol2[:,0] == '1986'\n",
    "\n",
    "# On sélectionne toutes les valeurs de world_alcohol2 à la 1ère colonne, on y applique le masque crée précédemment. \n",
    "# Si la valeur du booléen est True pour une ligne de cette colonne, \n",
    "# on remplace l'année 1986 correspondante par 2018.\n",
    "world_alcohol2[:,0][masque_1986] = \"2018\"\n",
    "print(world_alcohol2)"
   ]
  },
  {
   "cell_type": "markdown",
   "metadata": {},
   "source": [
    "   - Remplacer tous les alcools \"Wine\" de la 4ème colonne de world_alcohol2 par \"Beer\"."
   ]
  },
  {
   "cell_type": "code",
   "execution_count": 22,
   "metadata": {},
   "outputs": [
    {
     "name": "stdout",
     "output_type": "stream",
     "text": [
      "[['2018' 'Western Pacific' 'Viet Nam' 'Beer' '0']\n",
      " ['2018' 'Americas' 'Uruguay' 'Other' '0.5']\n",
      " ['1985' 'Africa' \"Cte d'Ivoire\" 'Beer' '1.62']\n",
      " ...\n",
      " ['2018' 'Europe' 'Switzerland' 'Spirits' '2.54']\n",
      " ['1987' 'Western Pacific' 'Papua New Guinea' 'Other' '0']\n",
      " ['2018' 'Africa' 'Swaziland' 'Other' '5.15']]\n"
     ]
    }
   ],
   "source": [
    "# On crée un masque pour accéder à Wine de la 4ème colonne de world_alcohol2\n",
    "masque_wine = world_alcohol2[:,3] == 'Wine'\n",
    "\n",
    "# On sélectionne toutes les valeurs de world_alcohol2 à la 4ème colonne, on y applique le masque crée précédemment.\n",
    "# Si la valeur du booléen est True pour une ligne de cette colonne, \n",
    "# On remplace le Wine correspondant par Beer\n",
    "world_alcohol2[:,3][masque_wine] = \"Beer\"\n",
    "print(world_alcohol2)"
   ]
  },
  {
   "cell_type": "code",
   "execution_count": 23,
   "metadata": {},
   "outputs": [
    {
     "name": "stdout",
     "output_type": "stream",
     "text": [
      "[['2018' 'Western Pacific' 'Viet Nam' 'Wine' '0']\n",
      " ['2018' 'Americas' 'Uruguay' 'Other' '0.5']\n",
      " ['1985' 'Africa' \"Cte d'Ivoire\" 'Wine' '1.62']\n",
      " ...\n",
      " ['2018' 'Europe' 'Switzerland' 'Spirits' '2.54']\n",
      " ['1987' 'Western Pacific' 'Papua New Guinea' 'Other' '0']\n",
      " ['2018' 'Africa' 'Swaziland' 'Other' '5.15']]\n"
     ]
    }
   ],
   "source": [
    "# On peut faire l'opération inverse en une seule ligne: \n",
    "world_alcohol2[:,3][world_alcohol2[:,3] == \"Beer\"] = \"Wine\"\n",
    "print(world_alcohol2)"
   ]
  },
  {
   "cell_type": "markdown",
   "metadata": {},
   "source": [
    "### Quatrième partie: Traitement des données manquantes. "
   ]
  },
  {
   "cell_type": "markdown",
   "metadata": {},
   "source": [
    "Remplacer les chaines de caractères vides (valeurs manquantes remplacée par \"0\")\n",
    "- Comparer tous les éléments de la 5ème colonne de world_alcohol avec la chaine de caractère vide c-a-d \"Assigner\" le résultat à la variable is_value_empty. \n",
    "- Sélectionner toutes les valeurs de la 5ème colonne de world_alcohol pour lesquelles is_value_empty est égal à True et enfin les remplacer par la chaine de caractère \"0\".\n"
   ]
  },
  {
   "cell_type": "code",
   "execution_count": 24,
   "metadata": {},
   "outputs": [
    {
     "name": "stdout",
     "output_type": "stream",
     "text": [
      "[['1986' 'Western Pacific' 'Viet Nam' 'Wine' '0']\n",
      " ['1986' 'Americas' 'Uruguay' 'Other' '0.5']\n",
      " ['1985' 'Africa' \"Cte d'Ivoire\" 'Wine' '1.62']\n",
      " ...\n",
      " ['1986' 'Europe' 'Switzerland' 'Spirits' '2.54']\n",
      " ['1987' 'Western Pacific' 'Papua New Guinea' 'Other' '0']\n",
      " ['1986' 'Africa' 'Swaziland' 'Other' '5.15']]\n"
     ]
    }
   ],
   "source": [
    "# On créer le masque qui retourne un booléen pour toutes les lignes de la 5ème colonne \n",
    "# pour lesquelles la valeur est ''\n",
    "is_value_empty = world_alcohol[:,4] == \"\"\n",
    "\n",
    "# Dans la 5ème colonne de world_alcohol, on sélectionne uniquement les lignes pour lesquelles le masque est True, \n",
    "# Et on modifie la valeur \"\" par \"0\".\n",
    "world_alcohol[is_value_empty,4] = \"0\"\n",
    "print(world_alcohol)"
   ]
  },
  {
   "cell_type": "markdown",
   "metadata": {},
   "source": [
    "### Cinquième partie: Convertir des types de données (la chaine de caractère \"0\" en valeur numérique 0)."
   ]
  },
  {
   "cell_type": "markdown",
   "metadata": {},
   "source": [
    "- Extraire la 5ème colonne de world_alcohol et assigner le résultat à la variable alcohol_consumption. \n",
    "- Utiliser la méthode astype() pour convertir alcohol_consumption en décimal(float)"
   ]
  },
  {
   "cell_type": "code",
   "execution_count": 25,
   "metadata": {},
   "outputs": [
    {
     "name": "stdout",
     "output_type": "stream",
     "text": [
      "[0.   0.5  1.62 ... 2.54 0.   5.15]\n"
     ]
    }
   ],
   "source": [
    "alcohol_consumption = world_alcohol[:,4]\n",
    "alcohol_consumption = alcohol_consumption.astype(float)\n",
    "print(alcohol_consumption)"
   ]
  },
  {
   "cell_type": "markdown",
   "metadata": {},
   "source": [
    "### Sixième partie: Calcul de la somme et de la moyenne. "
   ]
  },
  {
   "cell_type": "markdown",
   "metadata": {},
   "source": [
    "- Calculer la somme des valeurs de alcohol_consumption. Assigner le résultat à la variable \"total_alcohol\". \n",
    "- Calculer la moyenne des valeurs de alcohol_consumption. Assigner le résultat à la variable \"average_alcohol\". \n",
    "- Afficher les résultats."
   ]
  },
  {
   "cell_type": "code",
   "execution_count": 27,
   "metadata": {},
   "outputs": [
    {
     "name": "stdout",
     "output_type": "stream",
     "text": [
      "3908.96\n",
      "\n",
      "1.2001719373656738\n"
     ]
    }
   ],
   "source": [
    "total_alcohol = alcohol_consumption.sum()\n",
    "print(total_alcohol)\n",
    "print()\n",
    "average_alcohol = alcohol_consumption.mean()\n",
    "print(average_alcohol)"
   ]
  },
  {
   "cell_type": "markdown",
   "metadata": {},
   "source": [
    "<h3 style =\"text-decoration: underline\"><center>Partie Exercice :</h3>"
   ]
  },
  {
   "cell_type": "markdown",
   "metadata": {},
   "source": [
    "### 1- Quelle est la consommation moyenne et totale du Canada pour l'année 1987 ?"
   ]
  },
  {
   "cell_type": "code",
   "execution_count": 33,
   "metadata": {},
   "outputs": [
    {
     "name": "stdout",
     "output_type": "stream",
     "text": [
      "[['1987' 'Americas' 'Canada' 'Wine' '1.3']\n",
      " ['1987' 'Americas' 'Canada' 'Beer' '4.83']\n",
      " ['1987' 'Americas' 'Canada' 'Spirits' '2.99']\n",
      " ['1987' 'Americas' 'Canada' 'Other' '0']]\n"
     ]
    }
   ],
   "source": [
    "# On crée un masque qui retournera True que si le pays est Canada et l'année 1987.\n",
    "masque_canada_et_1987 = (world_alcohol[:,2] == \"Canada\") & (world_alcohol[:,0] == '1987')\n",
    "\n",
    "# On applique ce masque à tout le dataset pour sélectionner les valeurs correspondantes. \n",
    "canada_et_1987 = world_alcohol[masque_canada_et_1987]\n",
    "print(canada_et_1987)"
   ]
  },
  {
   "cell_type": "code",
   "execution_count": 34,
   "metadata": {},
   "outputs": [
    {
     "name": "stdout",
     "output_type": "stream",
     "text": [
      "La consommation d'alcool totale du Canada en 1987 est de 9.120000000000001 unités.\n",
      "\n",
      "La consommation d'alcool moyenne du Canada en 1987 est de 2.2800000000000002 unités.\n"
     ]
    }
   ],
   "source": [
    "# On sélectionne toutes les lignes de la 5ème colonne correspondant à la consommation d'alcool. \n",
    "alcohol_consumption_canada1987 = canada_et_1987[:,4]\n",
    "\n",
    "# On convertit les chaines de caractères en valeurs numériques décimales\n",
    "alcohol_consumption_canada1987 = alcohol_consumption_canada1987.astype(float)\n",
    "\n",
    "# On fait la somme sur le sous-ensemble alcohol_consumption_canada1987 \n",
    "conso_totale = alcohol_consumption_canada1987.sum()\n",
    "print(f\"La consommation d'alcool totale du Canada en 1987 est de {conso_totale} unités.\")\n",
    "\n",
    "# On fait la moyenne sur le sous-ensemble alcohol_consumption_canada1987\n",
    "print()\n",
    "conso_moyenne = alcohol_consumption_canada1987.mean()\n",
    "print(f\"La consommation d'alcool moyenne du Canada en 1987 est de {conso_moyenne} unités.\")"
   ]
  },
  {
   "cell_type": "markdown",
   "metadata": {},
   "source": [
    "### 2- Quelle est la consommation moyenne et totale de bière pour le continent américain ? "
   ]
  },
  {
   "cell_type": "code",
   "execution_count": 36,
   "metadata": {},
   "outputs": [
    {
     "name": "stdout",
     "output_type": "stream",
     "text": [
      "La consommation de bière totale du continent américain est de 310.02 unités.\n",
      "\n",
      "La consommation de bière moyenne du continent américain est de 2.0001290322580645 unités.\n"
     ]
    }
   ],
   "source": [
    "# On crée un masque qui retournera True que si le continent est Americas et l'alcool de la bière.\n",
    "masque_americas_et_biere = (world_alcohol[:,1] == \"Americas\") & (world_alcohol[:,3] == \"Beer\")\n",
    "\n",
    "# On applique ce masque à tout le dataset pour sélectionner les valeurs correspondantes.\n",
    "americas_et_biere = world_alcohol[masque_americas_et_biere]\n",
    "\n",
    "# On sélectionne toutes les lignes de la 5ème colonne correspondant à la consommation d'alcool. \n",
    "alcohol_consumption_AmericasBeer = americas_et_biere[:,4]\n",
    "\n",
    "# On convertit les chaines de caractères en valeurs numériques décimales \n",
    "alcohol_consumption_AmericasBeer = alcohol_consumption_AmericasBeer.astype(float)\n",
    "\n",
    "# On fait la somme sur le sous-ensemble alcohol_consumption_AmericasBeer\n",
    "somme_consumption_AmericasBeer = alcohol_consumption_AmericasBeer.sum()\n",
    "print(f\"La consommation de bière totale du continent américain est de {somme_consumption_AmericasBeer} unités.\")\n",
    "\n",
    "# On fait la moyenne sur le sous-ensemble alcohol_consumption_AmericasBeer\n",
    "print()\n",
    "mean_consumption_AmericasBeer = alcohol_consumption_AmericasBeer.mean()\n",
    "print(f\"La consommation de bière moyenne du continent américain est de {mean_consumption_AmericasBeer} unités.\")"
   ]
  },
  {
   "cell_type": "markdown",
   "metadata": {},
   "source": [
    "### 3- Calculer la consommation pour chaque pays "
   ]
  },
  {
   "cell_type": "markdown",
   "metadata": {},
   "source": [
    "- Créer un dictionnaire vide qui contiendra tous les pays et leur consommation d'alcool associée, on le nommera totals.\n",
    "- Sélectionner ensuite les lignes de world_alcohol correspondant à l'année donnée, disons 1989. Assigner le résultat à la variable year.\n",
    "- Sélectionner dans une liste qu'on nommera countries tous les pays.\n",
    "- Parcourir tous les pays de la liste à l'aide d'une boucle. Pour chaque pays:\n",
    "    - Sélectionner les lignes de year correpondant à ce pays\n",
    "    - Assigner le résultat à la variable country_consumption\n",
    "    - Extraire la 5ème colonne de country_consumption\n",
    "    - Remplacer toute chaine de caractère vide dans cette colonne par 0\n",
    "    - Convertir la colonne en décimal (float)\n",
    "    - Calculer la somme de la colonne\n",
    "    - Ajouter la somme au dictionnaire totals, avec comme clé le nom du pays et en valeur cette somme.\n",
    "- Afficher le dictionnaire totals"
   ]
  },
  {
   "cell_type": "code",
   "execution_count": 40,
   "metadata": {},
   "outputs": [
    {
     "name": "stdout",
     "output_type": "stream",
     "text": [
      "['Viet Nam' 'Uruguay' \"Cte d'Ivoire\" ... 'Switzerland' 'Papua New Guinea'\n",
      " 'Swaziland']\n"
     ]
    }
   ],
   "source": [
    "# Création du dictionnaire vide \n",
    "totals = {}\n",
    "\n",
    "# Création du masque qui retourner True que si l'année est 1989\n",
    "masque_year = world_alcohol[:,0] == \"1989\"\n",
    "\n",
    "# On applique ce masque à tout le dataset pour sélectionner les valeurs correspondantes.\n",
    "year = world_alcohol[masque_year]\n",
    "\n",
    "# On sélectionne tous les pays présent dans la 3ème colonne du dataset. \n",
    "countries = world_alcohol[:,2]\n",
    "print(countries)"
   ]
  },
  {
   "cell_type": "code",
   "execution_count": 42,
   "metadata": {},
   "outputs": [
    {
     "name": "stdout",
     "output_type": "stream",
     "text": [
      "{'Viet Nam': 0.16, 'Uruguay': 7.4399999999999995, \"Cte d'Ivoire\": 2.2, 'Colombia': 6.960000000000001, 'Saint Kitts and Nevis': 4.65, 'Guatemala': 2.47, 'Mauritius': 3.54, 'Angola': 2.28, 'Antigua and Barbuda': 4.69, 'Nigeria': 6.74, 'Botswana': 4.63, \"Lao People's Democratic Republic\": 5.95, 'Afghanistan': 0.0, 'Guinea-Bissau': 2.67, 'Costa Rica': 5.3999999999999995, 'Seychelles': 3.3000000000000003, 'Norway': 5.08, 'Kenya': 2.82, 'Myanmar': 0.16, 'Romania': 8.41, 'Turkey': 0.72, 'Comoros': 0.10999999999999999, 'Tunisia': 0.95, 'United Kingdom of Great Britain and Northern Ireland': 9.99, 'Bahrain': 4.89, 'Italy': 10.899999999999999, 'Sierra Leone': 4.380000000000001, 'Micronesia (Federated States of)': 0.0, 'Mauritania': 0.02, 'Russian Federation': 5.35, 'Egypt': 0.42000000000000004, 'Sweden': 7.47, 'Qatar': 1.4500000000000002, 'Burkina Faso': 3.99, 'Austria': 13.9, 'Czech Republic': 13.009999999999998, 'Ukraine': 5.32, 'China': 3.33, 'Lithuania': 0.0, 'Zimbabwe': 4.92, 'Trinidad and Tobago': 4.68, 'Mexico': 5.1, 'Nicaragua': 2.5, 'Malta': 7.13, 'Switzerland': 13.849999999999998, 'Finland': 9.419999999999998, 'Saudi Arabia': 0.15, 'Kuwait': 0.0, 'El Salvador': 1.77, 'Suriname': 3.67, 'Croatia': 10.92, 'Somalia': 0.0, 'Syrian Arab Republic': 0.54, 'Iran (Islamic Republic of)': 0.0, 'Papua New Guinea': 1.1099999999999999, 'Libya': 0.0, 'Bolivia (Plurinational State of)': 3.05, 'Iraq': 0.75, 'Namibia': 0.24, 'Uganda': 7.8, 'Togo': 2.2199999999999998, 'Madagascar': 1.38, 'Mali': 0.6699999999999999, 'Pakistan': 0.02, 'Cameroon': 6.359999999999999, 'Jamaica': 3.03, 'Malawi': 1.02, 'Netherlands': 10.030000000000001, 'Ireland': 11.79, 'Sri Lanka': 0.14, 'Democratic Republic of the Congo': 1.92, 'Bahamas': 12.290000000000001, 'Lebanon': 3.94, 'Bulgaria': 11.43, 'Eritrea': 0.29, 'Niger': 0.11, 'Luxembourg': 15.21, 'Indonesia': 0.07, 'Equatorial Guinea': 6.49, \"Democratic People's Republic of Korea\": 3.6799999999999997, 'Chile': 8.649999999999999, 'Central African Republic': 2.5199999999999996, 'Spain': 13.280000000000001, 'Gambia': 1.6300000000000001, 'Ghana': 1.8599999999999999, 'Brazil': 5.52, 'Portugal': 15.350000000000001, 'Burundi': 8.159999999999998, 'Belgium': 11.61, 'Paraguay': 6.51, 'Hungary': 16.29, 'Greece': 10.15, 'India': 1.66, 'Kyrgyzstan': 4.279999999999999, 'France': 16.05, 'Zambia': 3.37, 'Israel': 2.0300000000000002, 'Swaziland': 6.68, 'Canada': 9.0, 'Cambodia': 0.33, 'Cabo Verde': 2.79, 'United Arab Emirates': 4.43, 'Peru': 4.99, 'Solomon Islands': 0.5800000000000001, 'United Republic of Tanzania': 5.9, 'Chad': 0.30000000000000004, 'Cuba': 4.37, 'Guyana': 9.940000000000001, 'Mongolia': 2.59, 'Australia': 12.09, 'Sao Tome and Principe': 2.57, 'Slovenia': 12.969999999999999, 'Benin': 1.3800000000000001, 'Algeria': 0.4, 'Venezuela (Bolivarian Republic of)': 7.87, 'Ecuador': 2.54, 'Iceland': 5.359999999999999, 'Liberia': 5.61, 'Yemen': 0.2, 'Sudan': 0.15, 'Belarus': 7.9799999999999995, 'Cyprus': 9.29, 'United States of America': 9.16, 'Vanuatu': 1.74, 'Bangladesh': 0.0, 'Philippines': 3.78, 'Slovakia': 12.700000000000001, 'Poland': 9.33, 'Senegal': 0.6100000000000001, 'Honduras': 2.15, 'Bhutan': 0.31, 'Fiji': 1.9600000000000002, 'Belize': 0.0, 'Lesotho': 2.02, 'Singapore': 1.61, 'Guinea': 0.21, 'Brunei Darussalam': 2.7800000000000002, 'Congo': 3.1500000000000004, 'Thailand': 3.92, 'Djibouti': 0.87, 'Gabon': 9.34, 'Dominican Republic': 4.53, 'Morocco': 0.7, 'New Zealand': 11.52, 'Denmark': 11.649999999999999, 'Samoa': 2.63, 'Argentina': 10.82, 'Oman': 1.03, 'Kiribati': 0.48, 'Albania': 1.73, 'Nepal': 0.03, 'Malaysia': 0.68, 'Latvia': 7.039999999999999, 'Haiti': 5.81, 'South Africa': 9.21, 'Republic of Korea': 9.620000000000001, 'Japan': 7.74, 'Mozambique': 0.39, 'Ethiopia': 0.8600000000000001, 'Panama': 4.6000000000000005, 'Germany': 14.64, 'Saint Lucia': 11.62, 'Rwanda': 7.549999999999999, 'Jordan': 0.19}\n"
     ]
    }
   ],
   "source": [
    "# Pour chacun des pays i dans countries:\n",
    "for i in countries: \n",
    "    # On créer un masque qui retournera True si le pays = i sur le dataset year où l'année sélectionnée est 1989\n",
    "    masque_country1989 = (year[:,2] == i)\n",
    "    \n",
    "    # On sélectionne le sous-ensemble correspondant au pays = i et à l'année = 1989\n",
    "    country_and_1989 = year[masque_country1989]\n",
    "    \n",
    "    # On créer un masque sur le sous-ensemble définit précédemment à la 5ème colonne \n",
    "    # pour trouver les chaines de caractères \"\"\n",
    "    null_masque = country_and_1989[:,4] == \"\"\n",
    "    \n",
    "    # À chaque valeur du sous ensemble (pays = i/ année = 1989) respectant le masque précédent, \n",
    "    # on remplace la chaine de caractère vide par un '0' \n",
    "    country_and_1989[null_masque] = '0'\n",
    "    \n",
    "    # On convertit ce nouveau dataset avec des chaines de caractères \"0\" en valeur numériques 0\n",
    "    convert_float = country_and_1989[:,4].astype(float)\n",
    "    \n",
    "    # Pour le dictionnaire en clé i = pays, on y associe la somme \n",
    "    totals[i] = convert_float.sum()\n",
    "\n",
    "print(totals)"
   ]
  },
  {
   "cell_type": "markdown",
   "metadata": {},
   "source": [
    "### 4- Trouver le pays qui consomme le plus d'alcool."
   ]
  },
  {
   "cell_type": "markdown",
   "metadata": {},
   "source": [
    "- Créer une variable highest_value qui gardera en mémoire la plus grande valeur du dictionnaire totals. On la fixe à 0 pour commencer.\n",
    "- Créer une variable similaire qu'on nommera highest_key qui gardera en mémoire le nom du pays associé à la plus grande valeur. On la fixe à la valeur None.\n",
    "- Parcourir chaque pays du dictionnaire totals:\n",
    "    - Si la valeur associée au pays est plus grande que highest_value, assigner la valeur en question à la variable highest_value et assigner la clé correspondante (nom du pays) à la variable highest_key.\n",
    "- Afficher le pays qui consomme le plus d'alcool (variable highest_key)"
   ]
  },
  {
   "cell_type": "code",
   "execution_count": 45,
   "metadata": {},
   "outputs": [
    {
     "name": "stdout",
     "output_type": "stream",
     "text": [
      "Le pays qui consomme le plus d'alcool est la Hungary (Hongrie) avec 16.29 unités.\n"
     ]
    }
   ],
   "source": [
    "# Dans un dictionnaire on a un couple key, value (pays, consommation). \n",
    "# On initialise la consommation à 0 et le pays à None\n",
    "highest_value = 0 \n",
    "highest_key = None \n",
    "\n",
    "# On créer une boucle qui parcourera chaque couple key, value\n",
    "for country in totals:\n",
    "    \n",
    "    # Si le dictionnaire à la clé country est supérieur à highest_value \n",
    "    if totals[country] > highest_value: \n",
    "        \n",
    "        # alors on remplace highest_key par le nom du pays\n",
    "        highest_key = country\n",
    "        \n",
    "        # et on remplace highest_value par la valeur associé à la clé pays\n",
    "        highest_value = totals[country]\n",
    "\n",
    "print(f\"Le pays qui consomme le plus d'alcool est la {highest_key} (Hongrie) avec {highest_value} unités.\")"
   ]
  },
  {
   "cell_type": "markdown",
   "metadata": {},
   "source": [
    "- Une deuxième méthode avec l'utilisation de la fonction max() sur le dictionnaire totals."
   ]
  },
  {
   "cell_type": "code",
   "execution_count": 47,
   "metadata": {},
   "outputs": [
    {
     "name": "stdout",
     "output_type": "stream",
     "text": [
      "Hungary\n",
      "16.29\n"
     ]
    }
   ],
   "source": [
    "max_key = max(totals, key= totals.get)\n",
    "print(max_key)\n",
    "all_values = totals.values()\n",
    "max_value = max(all_values)\n",
    "print(max_value)"
   ]
  },
  {
   "cell_type": "markdown",
   "metadata": {},
   "source": [
    "### 5- Créer une fonction qui aura pour argument d'entré une année et retournera le dictionnaire contenant la consommation moyenne pour chaque pays. "
   ]
  },
  {
   "cell_type": "code",
   "execution_count": 51,
   "metadata": {},
   "outputs": [],
   "source": [
    "# On reprend la boucle for précédemment créée, \n",
    "# On définit la variable year qui sera entrée quand on appellera la fonction\n",
    "\n",
    "def calculate_mean(year):\n",
    "\n",
    "    totals = {}\n",
    "\n",
    "    masque_year = world_alcohol[:,0] == year\n",
    "    year = world_alcohol[masque_year]\n",
    "    countries = world_alcohol[:,2]\n",
    "\n",
    "\n",
    "    for i in countries: \n",
    "        masque_country_year = (year[:,2] == i)\n",
    "        country_and_year = year[masque_country_year]\n",
    "        find_null = country_and_year[:,4] == \"\"\n",
    "        country_and_year[find_null] = '0'\n",
    "        convert_float = country_and_year[:,4].astype(float)\n",
    "        totals[i] = convert_float.sum()\n",
    "        \n",
    "    print(totals)"
   ]
  },
  {
   "cell_type": "code",
   "execution_count": 52,
   "metadata": {},
   "outputs": [
    {
     "name": "stdout",
     "output_type": "stream",
     "text": [
      "{'Viet Nam': 0.16999999999999998, 'Uruguay': 7.2299999999999995, \"Cte d'Ivoire\": 2.8000000000000003, 'Colombia': 6.609999999999999, 'Saint Kitts and Nevis': 3.98, 'Guatemala': 2.58, 'Mauritius': 3.04, 'Angola': 1.7, 'Antigua and Barbuda': 3.55, 'Nigeria': 7.26, 'Botswana': 4.4799999999999995, \"Lao People's Democratic Republic\": 4.93, 'Afghanistan': 0.0, 'Guinea-Bissau': 2.44, 'Costa Rica': 4.859999999999999, 'Seychelles': 3.21, 'Norway': 5.27, 'Kenya': 2.76, 'Myanmar': 0.28, 'Romania': 9.9, 'Turkey': 0.8500000000000001, 'Comoros': 0.16, 'Tunisia': 1.15, 'United Kingdom of Great Britain and Northern Ireland': 10.260000000000002, 'Bahrain': 5.11, 'Italy': 12.3, 'Sierra Leone': 4.61, 'Micronesia (Federated States of)': 0.0, 'Mauritania': 0.03, 'Russian Federation': 5.289999999999999, 'Egypt': 0.39, 'Sweden': 7.210000000000001, 'Qatar': 2.11, 'Burkina Faso': 3.71, 'Austria': 13.6, 'Czech Republic': 13.01, 'Ukraine': 4.390000000000001, 'China': 2.38, 'Lithuania': 0.0, 'Zimbabwe': 7.24, 'Trinidad and Tobago': 5.199999999999999, 'Mexico': 4.430000000000001, 'Nicaragua': 3.48, 'Malta': 5.34, 'Switzerland': 14.07, 'Finland': 8.510000000000002, 'Saudi Arabia': 0.2, 'Kuwait': 0.0, 'El Salvador': 2.41, 'Suriname': 5.26, 'Croatia': 0.0, 'Somalia': 0.01, 'Syrian Arab Republic': 1.02, 'Iran (Islamic Republic of)': 0.0, 'Papua New Guinea': 1.23, 'Libya': 0.0, 'Bolivia (Plurinational State of)': 3.29, 'Iraq': 0.75, 'Namibia': 0.26, 'Uganda': 7.47, 'Togo': 2.8, 'Madagascar': 1.4, 'Mali': 0.58, 'Pakistan': 0.02, 'Cameroon': 6.5, 'Jamaica': 2.77, 'Malawi': 1.35, 'Netherlands': 10.620000000000001, 'Ireland': 11.24, 'Sri Lanka': 0.19, 'Democratic Republic of the Congo': 2.34, 'Bahamas': 14.120000000000001, 'Lebanon': 4.12, 'Bulgaria': 11.47, 'Eritrea': 0.3, 'Niger': 0.17, 'Luxembourg': 15.3, 'Indonesia': 0.07, 'Equatorial Guinea': 1.84, \"Democratic People's Republic of Korea\": 3.5100000000000002, 'Chile': 8.93, 'Central African Republic': 2.94, 'Spain': 14.370000000000001, 'Gambia': 2.19, 'Ghana': 1.45, 'Brazil': 4.13, 'Portugal': 14.43, 'Burundi': 8.35, 'Belgium': 12.72, 'Paraguay': 7.48, 'Hungary': 16.67, 'Greece': 8.920000000000002, 'India': 1.32, 'Kyrgyzstan': 3.41, 'France': 16.13, 'Zambia': 3.07, 'Israel': 2.2600000000000002, 'Swaziland': 6.470000000000001, 'Canada': 9.31, 'Cambodia': 0.22, 'Cabo Verde': 2.92, 'United Arab Emirates': 6.74, 'Peru': 5.96, 'Solomon Islands': 0.9000000000000001, 'United Republic of Tanzania': 7.29, 'Chad': 0.32, 'Cuba': 4.04, 'Guyana': 6.05, 'Mongolia': 2.7300000000000004, 'Australia': 12.3, 'Sao Tome and Principe': 0.65, 'Slovenia': 18.13, 'Benin': 1.26, 'Algeria': 0.29, 'Venezuela (Bolivarian Republic of)': 8.32, 'Ecuador': 2.5, 'Iceland': 5.48, 'Liberia': 4.43, 'Yemen': 0.22, 'Sudan': 0.25, 'Belarus': 0.0, 'Cyprus': 8.32, 'United States of America': 9.73, 'Vanuatu': 1.74, 'Bangladesh': 0.0, 'Philippines': 4.1, 'Slovakia': 13.3, 'Poland': 9.18, 'Senegal': 0.44, 'Honduras': 2.05, 'Bhutan': 0.46, 'Fiji': 1.81, 'Belize': 5.73, 'Lesotho': 2.34, 'Singapore': 1.6300000000000001, 'Guinea': 0.16000000000000003, 'Brunei Darussalam': 2.5300000000000002, 'Congo': 5.4, 'Thailand': 2.44, 'Djibouti': 2.26, 'Gabon': 13.73, 'Dominican Republic': 3.7199999999999998, 'Morocco': 0.71, 'New Zealand': 12.219999999999999, 'Denmark': 12.26, 'Samoa': 1.6400000000000001, 'Argentina': 12.89, 'Oman': 0.14, 'Kiribati': 0.5800000000000001, 'Albania': 1.38, 'Nepal': 0.01, 'Malaysia': 0.64, 'Latvia': 7.79, 'Haiti': 5.7299999999999995, 'South Africa': 8.85, 'Republic of Korea': 10.25, 'Japan': 7.2, 'Mozambique': 0.37, 'Ethiopia': 0.62, 'Panama': 5.08, 'Germany': 14.72, 'Saint Lucia': 9.66, 'Rwanda': 6.87, 'Jordan': 0.29000000000000004}\n"
     ]
    }
   ],
   "source": [
    "calculate_mean(\"1986\")"
   ]
  },
  {
   "cell_type": "code",
   "execution_count": null,
   "metadata": {},
   "outputs": [],
   "source": []
  }
 ],
 "metadata": {
  "kernelspec": {
   "display_name": "Python 3",
   "language": "python",
   "name": "python3"
  },
  "language_info": {
   "codemirror_mode": {
    "name": "ipython",
    "version": 3
   },
   "file_extension": ".py",
   "mimetype": "text/x-python",
   "name": "python",
   "nbconvert_exporter": "python",
   "pygments_lexer": "ipython3",
   "version": "3.8.5"
  }
 },
 "nbformat": 4,
 "nbformat_minor": 4
}
