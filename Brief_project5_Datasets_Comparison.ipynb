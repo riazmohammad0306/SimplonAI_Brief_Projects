{
 "cells": [
  {
   "cell_type": "markdown",
   "metadata": {},
   "source": [
    "<h3 style =\"text-decoration: underline\"><center>Brief project: Pouvoir d'achat et employabilité</h3>"
   ]
  },
  {
   "cell_type": "markdown",
   "metadata": {},
   "source": [
    "### 1- Introduction aux datasets et lecture des données"
   ]
  },
  {
   "cell_type": "code",
   "execution_count": 4,
   "metadata": {},
   "outputs": [
    {
     "data": {
      "text/html": [
       "<div>\n",
       "<style scoped>\n",
       "    .dataframe tbody tr th:only-of-type {\n",
       "        vertical-align: middle;\n",
       "    }\n",
       "\n",
       "    .dataframe tbody tr th {\n",
       "        vertical-align: top;\n",
       "    }\n",
       "\n",
       "    .dataframe thead th {\n",
       "        text-align: right;\n",
       "    }\n",
       "</style>\n",
       "<table border=\"1\" class=\"dataframe\">\n",
       "  <thead>\n",
       "    <tr style=\"text-align: right;\">\n",
       "      <th></th>\n",
       "      <th>Major_code</th>\n",
       "      <th>Major</th>\n",
       "      <th>Major_category</th>\n",
       "      <th>Total</th>\n",
       "      <th>Employed</th>\n",
       "      <th>Employed_full_time_year_round</th>\n",
       "      <th>Unemployed</th>\n",
       "      <th>Unemployment_rate</th>\n",
       "      <th>Median</th>\n",
       "      <th>P25th</th>\n",
       "      <th>P75th</th>\n",
       "    </tr>\n",
       "  </thead>\n",
       "  <tbody>\n",
       "    <tr>\n",
       "      <th>0</th>\n",
       "      <td>1100</td>\n",
       "      <td>GENERAL AGRICULTURE</td>\n",
       "      <td>Agriculture &amp; Natural Resources</td>\n",
       "      <td>128148</td>\n",
       "      <td>90245</td>\n",
       "      <td>74078</td>\n",
       "      <td>2423</td>\n",
       "      <td>0.026147</td>\n",
       "      <td>50000</td>\n",
       "      <td>34000</td>\n",
       "      <td>80000.0</td>\n",
       "    </tr>\n",
       "    <tr>\n",
       "      <th>1</th>\n",
       "      <td>1101</td>\n",
       "      <td>AGRICULTURE PRODUCTION AND MANAGEMENT</td>\n",
       "      <td>Agriculture &amp; Natural Resources</td>\n",
       "      <td>95326</td>\n",
       "      <td>76865</td>\n",
       "      <td>64240</td>\n",
       "      <td>2266</td>\n",
       "      <td>0.028636</td>\n",
       "      <td>54000</td>\n",
       "      <td>36000</td>\n",
       "      <td>80000.0</td>\n",
       "    </tr>\n",
       "    <tr>\n",
       "      <th>2</th>\n",
       "      <td>1102</td>\n",
       "      <td>AGRICULTURAL ECONOMICS</td>\n",
       "      <td>Agriculture &amp; Natural Resources</td>\n",
       "      <td>33955</td>\n",
       "      <td>26321</td>\n",
       "      <td>22810</td>\n",
       "      <td>821</td>\n",
       "      <td>0.030248</td>\n",
       "      <td>63000</td>\n",
       "      <td>40000</td>\n",
       "      <td>98000.0</td>\n",
       "    </tr>\n",
       "    <tr>\n",
       "      <th>3</th>\n",
       "      <td>1103</td>\n",
       "      <td>ANIMAL SCIENCES</td>\n",
       "      <td>Agriculture &amp; Natural Resources</td>\n",
       "      <td>103549</td>\n",
       "      <td>81177</td>\n",
       "      <td>64937</td>\n",
       "      <td>3619</td>\n",
       "      <td>0.042679</td>\n",
       "      <td>46000</td>\n",
       "      <td>30000</td>\n",
       "      <td>72000.0</td>\n",
       "    </tr>\n",
       "    <tr>\n",
       "      <th>4</th>\n",
       "      <td>1104</td>\n",
       "      <td>FOOD SCIENCE</td>\n",
       "      <td>Agriculture &amp; Natural Resources</td>\n",
       "      <td>24280</td>\n",
       "      <td>17281</td>\n",
       "      <td>12722</td>\n",
       "      <td>894</td>\n",
       "      <td>0.049188</td>\n",
       "      <td>62000</td>\n",
       "      <td>38500</td>\n",
       "      <td>90000.0</td>\n",
       "    </tr>\n",
       "  </tbody>\n",
       "</table>\n",
       "</div>"
      ],
      "text/plain": [
       "   Major_code                                  Major  \\\n",
       "0        1100                    GENERAL AGRICULTURE   \n",
       "1        1101  AGRICULTURE PRODUCTION AND MANAGEMENT   \n",
       "2        1102                 AGRICULTURAL ECONOMICS   \n",
       "3        1103                        ANIMAL SCIENCES   \n",
       "4        1104                           FOOD SCIENCE   \n",
       "\n",
       "                    Major_category   Total  Employed  \\\n",
       "0  Agriculture & Natural Resources  128148     90245   \n",
       "1  Agriculture & Natural Resources   95326     76865   \n",
       "2  Agriculture & Natural Resources   33955     26321   \n",
       "3  Agriculture & Natural Resources  103549     81177   \n",
       "4  Agriculture & Natural Resources   24280     17281   \n",
       "\n",
       "   Employed_full_time_year_round  Unemployed  Unemployment_rate  Median  \\\n",
       "0                          74078        2423           0.026147   50000   \n",
       "1                          64240        2266           0.028636   54000   \n",
       "2                          22810         821           0.030248   63000   \n",
       "3                          64937        3619           0.042679   46000   \n",
       "4                          12722         894           0.049188   62000   \n",
       "\n",
       "   P25th    P75th  \n",
       "0  34000  80000.0  \n",
       "1  36000  80000.0  \n",
       "2  40000  98000.0  \n",
       "3  30000  72000.0  \n",
       "4  38500  90000.0  "
      ]
     },
     "execution_count": 4,
     "metadata": {},
     "output_type": "execute_result"
    }
   ],
   "source": [
    "import pandas as pd \n",
    "\n",
    "# On lit les fichiers grâce à la méthode .read_csv() de pandas\n",
    "all_ages = pd.read_csv(\"all-ages.csv\")\n",
    "recent_grads = pd.read_csv('recent-grads.csv')\n",
    "\n",
    "# On affiche les 5 premières lignes grâce à la méthode head() qui prend en entrée le nombre de lignes à afficher\n",
    "all_ages.head(5)"
   ]
  },
  {
   "cell_type": "code",
   "execution_count": 5,
   "metadata": {},
   "outputs": [
    {
     "data": {
      "text/html": [
       "<div>\n",
       "<style scoped>\n",
       "    .dataframe tbody tr th:only-of-type {\n",
       "        vertical-align: middle;\n",
       "    }\n",
       "\n",
       "    .dataframe tbody tr th {\n",
       "        vertical-align: top;\n",
       "    }\n",
       "\n",
       "    .dataframe thead th {\n",
       "        text-align: right;\n",
       "    }\n",
       "</style>\n",
       "<table border=\"1\" class=\"dataframe\">\n",
       "  <thead>\n",
       "    <tr style=\"text-align: right;\">\n",
       "      <th></th>\n",
       "      <th>Rank</th>\n",
       "      <th>Major_code</th>\n",
       "      <th>Major</th>\n",
       "      <th>Major_category</th>\n",
       "      <th>Total</th>\n",
       "      <th>Sample_size</th>\n",
       "      <th>Men</th>\n",
       "      <th>Women</th>\n",
       "      <th>ShareWomen</th>\n",
       "      <th>Employed</th>\n",
       "      <th>...</th>\n",
       "      <th>Part_time</th>\n",
       "      <th>Full_time_year_round</th>\n",
       "      <th>Unemployed</th>\n",
       "      <th>Unemployment_rate</th>\n",
       "      <th>Median</th>\n",
       "      <th>P25th</th>\n",
       "      <th>P75th</th>\n",
       "      <th>College_jobs</th>\n",
       "      <th>Non_college_jobs</th>\n",
       "      <th>Low_wage_jobs</th>\n",
       "    </tr>\n",
       "  </thead>\n",
       "  <tbody>\n",
       "    <tr>\n",
       "      <th>0</th>\n",
       "      <td>1</td>\n",
       "      <td>2419</td>\n",
       "      <td>PETROLEUM ENGINEERING</td>\n",
       "      <td>Engineering</td>\n",
       "      <td>2339</td>\n",
       "      <td>36</td>\n",
       "      <td>2057</td>\n",
       "      <td>282</td>\n",
       "      <td>0.120564</td>\n",
       "      <td>1976</td>\n",
       "      <td>...</td>\n",
       "      <td>270</td>\n",
       "      <td>1207</td>\n",
       "      <td>37</td>\n",
       "      <td>0.018381</td>\n",
       "      <td>110000</td>\n",
       "      <td>95000</td>\n",
       "      <td>125000</td>\n",
       "      <td>1534</td>\n",
       "      <td>364</td>\n",
       "      <td>193</td>\n",
       "    </tr>\n",
       "    <tr>\n",
       "      <th>1</th>\n",
       "      <td>2</td>\n",
       "      <td>2416</td>\n",
       "      <td>MINING AND MINERAL ENGINEERING</td>\n",
       "      <td>Engineering</td>\n",
       "      <td>756</td>\n",
       "      <td>7</td>\n",
       "      <td>679</td>\n",
       "      <td>77</td>\n",
       "      <td>0.101852</td>\n",
       "      <td>640</td>\n",
       "      <td>...</td>\n",
       "      <td>170</td>\n",
       "      <td>388</td>\n",
       "      <td>85</td>\n",
       "      <td>0.117241</td>\n",
       "      <td>75000</td>\n",
       "      <td>55000</td>\n",
       "      <td>90000</td>\n",
       "      <td>350</td>\n",
       "      <td>257</td>\n",
       "      <td>50</td>\n",
       "    </tr>\n",
       "    <tr>\n",
       "      <th>2</th>\n",
       "      <td>3</td>\n",
       "      <td>2415</td>\n",
       "      <td>METALLURGICAL ENGINEERING</td>\n",
       "      <td>Engineering</td>\n",
       "      <td>856</td>\n",
       "      <td>3</td>\n",
       "      <td>725</td>\n",
       "      <td>131</td>\n",
       "      <td>0.153037</td>\n",
       "      <td>648</td>\n",
       "      <td>...</td>\n",
       "      <td>133</td>\n",
       "      <td>340</td>\n",
       "      <td>16</td>\n",
       "      <td>0.024096</td>\n",
       "      <td>73000</td>\n",
       "      <td>50000</td>\n",
       "      <td>105000</td>\n",
       "      <td>456</td>\n",
       "      <td>176</td>\n",
       "      <td>0</td>\n",
       "    </tr>\n",
       "    <tr>\n",
       "      <th>3</th>\n",
       "      <td>4</td>\n",
       "      <td>2417</td>\n",
       "      <td>NAVAL ARCHITECTURE AND MARINE ENGINEERING</td>\n",
       "      <td>Engineering</td>\n",
       "      <td>1258</td>\n",
       "      <td>16</td>\n",
       "      <td>1123</td>\n",
       "      <td>135</td>\n",
       "      <td>0.107313</td>\n",
       "      <td>758</td>\n",
       "      <td>...</td>\n",
       "      <td>150</td>\n",
       "      <td>692</td>\n",
       "      <td>40</td>\n",
       "      <td>0.050125</td>\n",
       "      <td>70000</td>\n",
       "      <td>43000</td>\n",
       "      <td>80000</td>\n",
       "      <td>529</td>\n",
       "      <td>102</td>\n",
       "      <td>0</td>\n",
       "    </tr>\n",
       "    <tr>\n",
       "      <th>4</th>\n",
       "      <td>5</td>\n",
       "      <td>2405</td>\n",
       "      <td>CHEMICAL ENGINEERING</td>\n",
       "      <td>Engineering</td>\n",
       "      <td>32260</td>\n",
       "      <td>289</td>\n",
       "      <td>21239</td>\n",
       "      <td>11021</td>\n",
       "      <td>0.341631</td>\n",
       "      <td>25694</td>\n",
       "      <td>...</td>\n",
       "      <td>5180</td>\n",
       "      <td>16697</td>\n",
       "      <td>1672</td>\n",
       "      <td>0.061098</td>\n",
       "      <td>65000</td>\n",
       "      <td>50000</td>\n",
       "      <td>75000</td>\n",
       "      <td>18314</td>\n",
       "      <td>4440</td>\n",
       "      <td>972</td>\n",
       "    </tr>\n",
       "  </tbody>\n",
       "</table>\n",
       "<p>5 rows × 21 columns</p>\n",
       "</div>"
      ],
      "text/plain": [
       "   Rank  Major_code                                      Major Major_category  \\\n",
       "0     1        2419                      PETROLEUM ENGINEERING    Engineering   \n",
       "1     2        2416             MINING AND MINERAL ENGINEERING    Engineering   \n",
       "2     3        2415                  METALLURGICAL ENGINEERING    Engineering   \n",
       "3     4        2417  NAVAL ARCHITECTURE AND MARINE ENGINEERING    Engineering   \n",
       "4     5        2405                       CHEMICAL ENGINEERING    Engineering   \n",
       "\n",
       "   Total  Sample_size    Men  Women  ShareWomen  Employed  ...  Part_time  \\\n",
       "0   2339           36   2057    282    0.120564      1976  ...        270   \n",
       "1    756            7    679     77    0.101852       640  ...        170   \n",
       "2    856            3    725    131    0.153037       648  ...        133   \n",
       "3   1258           16   1123    135    0.107313       758  ...        150   \n",
       "4  32260          289  21239  11021    0.341631     25694  ...       5180   \n",
       "\n",
       "   Full_time_year_round  Unemployed  Unemployment_rate  Median  P25th   P75th  \\\n",
       "0                  1207          37           0.018381  110000  95000  125000   \n",
       "1                   388          85           0.117241   75000  55000   90000   \n",
       "2                   340          16           0.024096   73000  50000  105000   \n",
       "3                   692          40           0.050125   70000  43000   80000   \n",
       "4                 16697        1672           0.061098   65000  50000   75000   \n",
       "\n",
       "   College_jobs  Non_college_jobs  Low_wage_jobs  \n",
       "0          1534               364            193  \n",
       "1           350               257             50  \n",
       "2           456               176              0  \n",
       "3           529               102              0  \n",
       "4         18314              4440            972  \n",
       "\n",
       "[5 rows x 21 columns]"
      ]
     },
     "execution_count": 5,
     "metadata": {},
     "output_type": "execute_result"
    }
   ],
   "source": [
    "recent_grads.head(5)"
   ]
  },
  {
   "cell_type": "markdown",
   "metadata": {},
   "source": [
    "### 2- Retourner les valeurs uniques de Major_category. "
   ]
  },
  {
   "cell_type": "code",
   "execution_count": 8,
   "metadata": {},
   "outputs": [
    {
     "name": "stdout",
     "output_type": "stream",
     "text": [
      "--- Valeurs uniques de Major_category pour all_ages ---\n",
      "\n",
      "['Agriculture & Natural Resources' 'Biology & Life Science' 'Engineering'\n",
      " 'Humanities & Liberal Arts' 'Communications & Journalism'\n",
      " 'Computers & Mathematics' 'Industrial Arts & Consumer Services'\n",
      " 'Education' 'Law & Public Policy' 'Interdisciplinary' 'Health'\n",
      " 'Social Science' 'Physical Sciences' 'Physical Sciences '\n",
      " 'Psychology & Social Work' 'Industrial Arts & Consumer Services ' 'Arts'\n",
      " 'Business']\n",
      "\n",
      "--- Valeurs uniques de Major_category pour recent_grads ---\n",
      "\n",
      "['Engineering' 'Business' 'Physical Sciences' 'Law & Public Policy'\n",
      " 'Computers & Mathematics' 'Agriculture & Natural Resources'\n",
      " 'Industrial Arts & Consumer Services' 'Arts' 'Health' 'Social Science'\n",
      " 'Physical Sciences ' 'Biology & Life Science' 'Education'\n",
      " 'Humanities & Liberal Arts' 'Psychology & Social Work'\n",
      " 'Industrial Arts & Consumer Services ' 'Communications & Journalism'\n",
      " 'Interdisciplinary']\n"
     ]
    }
   ],
   "source": [
    "# Utilisation de la méthode .unique()\n",
    "unique_majorCat_ages = all_ages['Major_category'].unique()\n",
    "unique_majorCat_grads = recent_grads['Major_category'].unique()\n",
    "\n",
    "print(\"--- Valeurs uniques de Major_category pour all_ages ---\")\n",
    "print()\n",
    "print(unique_majorCat_ages)\n",
    "print()\n",
    "print(\"--- Valeurs uniques de Major_category pour recent_grads ---\")\n",
    "print()\n",
    "print(unique_majorCat_grads)"
   ]
  },
  {
   "cell_type": "markdown",
   "metadata": {},
   "source": [
    "### 3- Créer un dictionnaire qui associera chaque Major_category à son nombre total d'étudiants."
   ]
  },
  {
   "cell_type": "markdown",
   "metadata": {},
   "source": [
    "#### 3.1 Pour le dataset all_ages"
   ]
  },
  {
   "cell_type": "code",
   "execution_count": 10,
   "metadata": {},
   "outputs": [
    {
     "name": "stdout",
     "output_type": "stream",
     "text": [
      "{'Agriculture & Natural Resources': 632437, 'Biology & Life Science': 1338186, 'Engineering': 3576013, 'Humanities & Liberal Arts': 3738335, 'Communications & Journalism': 1803822, 'Computers & Mathematics': 1781378, 'Industrial Arts & Consumer Services': 1018072, 'Education': 4700118, 'Law & Public Policy': 902926, 'Interdisciplinary': 45199, 'Health': 2950859, 'Social Science': 2654125, 'Physical Sciences': 1013152, 'Physical Sciences ': 12166, 'Psychology & Social Work': 1987278, 'Industrial Arts & Consumer Services ': 15726, 'Arts': 1805865, 'Business': 9858741}\n"
     ]
    }
   ],
   "source": [
    "# Création d'un dictionnaire vide qui contiendra les association Major_category: nombre d'étudiants\n",
    "majorCat_nbStud_ages = {}\n",
    "\n",
    "# Création d'une boucle for qui parcourera chacun des major_category unique \n",
    "# précédemment défini dans unique_majorCat_ages\n",
    "for major in unique_majorCat_ages: \n",
    "    \n",
    "    # Création d'un masque qui sélectionne uniquement les valeurs de all_ages où la colonne \"Major_category\"\n",
    "    # sera égale à sa valeur unique soit major\n",
    "    masque_majorCat_ages = all_ages[\"Major_category\"] == major\n",
    "    \n",
    "    # On applique ce masque sur l'ensemble du dataframe all_ages pour sélectionner les valeurs adéquates à major\n",
    "    rows_majorCat_ages = all_ages[masque_majorCat_ages]\n",
    "    \n",
    "    # On utilise la méthode.sum() sur la colonne Total du sous-ensemble correspondant à la major précédemment défini\n",
    "    total_students_majorCat = rows_majorCat_ages[\"Total\"].sum()\n",
    "    \n",
    "    # On associe à chaque clé major sa valeur de nombre d'étudiant précédemment calculé. \n",
    "    majorCat_nbStud_ages[major] = total_students_majorCat\n",
    "\n",
    "print(majorCat_nbStud_ages)"
   ]
  },
  {
   "cell_type": "markdown",
   "metadata": {},
   "source": [
    "#### 3.2 Pour le dataset recent_grads"
   ]
  },
  {
   "cell_type": "code",
   "execution_count": 13,
   "metadata": {},
   "outputs": [
    {
     "name": "stdout",
     "output_type": "stream",
     "text": [
      "{'Engineering': 537583, 'Business': 1302376, 'Physical Sciences': 183363, 'Law & Public Policy': 179107, 'Computers & Mathematics': 299008, 'Agriculture & Natural Resources': 79981, 'Industrial Arts & Consumer Services': 227357, 'Arts': 357130, 'Health': 463230, 'Social Science': 529966, 'Physical Sciences ': 2116, 'Biology & Life Science': 453862, 'Education': 559129, 'Humanities & Liberal Arts': 713468, 'Psychology & Social Work': 481007, 'Industrial Arts & Consumer Services ': 2435, 'Communications & Journalism': 392601, 'Interdisciplinary': 12296}\n"
     ]
    }
   ],
   "source": [
    "# On réalise les mêmes étapes que pour le dataset all_ages\n",
    "majorCat_nbStud_grads = {}\n",
    "\n",
    "for major_grads in unique_majorCat_grads: \n",
    "    masque_majorCat_grads = recent_grads[\"Major_category\"] == major_grads\n",
    "    rows_majorCat_grads = recent_grads[masque_majorCat_grads]\n",
    "    total_students_majorCat_grads = rows_majorCat_grads[\"Total\"].sum()\n",
    "    majorCat_nbStud_grads[major_grads] = total_students_majorCat_grads\n",
    "\n",
    "print(majorCat_nbStud_grads)"
   ]
  },
  {
   "cell_type": "markdown",
   "metadata": {},
   "source": [
    "### 4-Créer une fonction qui aura pour paramètre d'entrée un dataframe et retournera un dictionnaire associant chaque Major_category à son nombre d'étudiants."
   ]
  },
  {
   "cell_type": "code",
   "execution_count": 42,
   "metadata": {},
   "outputs": [],
   "source": [
    "def nb_students(dataframe): \n",
    "    \n",
    "    # On cherche d'abord les major_category unique du dataframe d'entrée\n",
    "    unique_majorCat = dataframe['Major_category'].unique()\n",
    "    \n",
    "    # On initialise un dictionnaire vide qui contiendra les associations major_category: nombre d'étudiants \n",
    "    # pour le dataframe d'entrée\n",
    "    dict_majorCat = {}\n",
    "    \n",
    "    # On crée une boucle qui parcourera les major_category unique trouvé précédemment\n",
    "    for major in unique_majorCat:\n",
    "        \n",
    "        # On crée un masque permettant de sélectionner les valeurs du dataframe \n",
    "        # correspondant uniquement à l'unique major_category\n",
    "        masque_majorCat = dataframe[\"Major_category\"] == major\n",
    "        \n",
    "        # On applique le masque au dataframe d'entrée pour sélectionner les valeurs correspondantes dans le dataframe\n",
    "        rows_majorCat = dataframe[masque_majorCat]\n",
    "        \n",
    "        # On fait la somme du nombres d'étudiants présent dans la colonne \"Total\" du sous-ensemble précédemment défini\n",
    "        total_students_majorCat = rows_majorCat[\"Total\"].sum()\n",
    "        \n",
    "        # On associe la clé unique major_category à son nombre d'étudiants total\n",
    "        dict_majorCat[major] = total_students_majorCat\n",
    "\n",
    "    return dict_majorCat"
   ]
  },
  {
   "cell_type": "code",
   "execution_count": 43,
   "metadata": {},
   "outputs": [
    {
     "name": "stdout",
     "output_type": "stream",
     "text": [
      "---- Pour le dataframe all_ages ----\n",
      "\n",
      "{'Agriculture & Natural Resources': 632437, 'Biology & Life Science': 1338186, 'Engineering': 3576013, 'Humanities & Liberal Arts': 3738335, 'Communications & Journalism': 1803822, 'Computers & Mathematics': 1781378, 'Industrial Arts & Consumer Services': 1018072, 'Education': 4700118, 'Law & Public Policy': 902926, 'Interdisciplinary': 45199, 'Health': 2950859, 'Social Science': 2654125, 'Physical Sciences': 1013152, 'Physical Sciences ': 12166, 'Psychology & Social Work': 1987278, 'Industrial Arts & Consumer Services ': 15726, 'Arts': 1805865, 'Business': 9858741}\n",
      "\n",
      "---- Pour le dataframe recent_grads ----\n",
      "\n",
      "{'Engineering': 537583, 'Business': 1302376, 'Physical Sciences': 183363, 'Law & Public Policy': 179107, 'Computers & Mathematics': 299008, 'Agriculture & Natural Resources': 79981, 'Industrial Arts & Consumer Services': 227357, 'Arts': 357130, 'Health': 463230, 'Social Science': 529966, 'Physical Sciences ': 2116, 'Biology & Life Science': 453862, 'Education': 559129, 'Humanities & Liberal Arts': 713468, 'Psychology & Social Work': 481007, 'Industrial Arts & Consumer Services ': 2435, 'Communications & Journalism': 392601, 'Interdisciplinary': 12296}\n"
     ]
    }
   ],
   "source": [
    "# On assigne le résultat de la fonction assigné à chacun des deux dataset dans deux variables différentes\n",
    "aa_cat_count = nb_students(all_ages)\n",
    "rg_cat_count = nb_students(recent_grads)\n",
    "\n",
    "print(\"---- Pour le dataframe all_ages ----\")\n",
    "print()\n",
    "print(aa_cat_count)\n",
    "print()\n",
    "print(\"---- Pour le dataframe recent_grads ----\")\n",
    "print()\n",
    "print(rg_cat_count)"
   ]
  },
  {
   "cell_type": "markdown",
   "metadata": {},
   "source": [
    "#### 4.1 Avec la méthode pivot table uniquement pour le dataframe all_ages"
   ]
  },
  {
   "cell_type": "code",
   "execution_count": 46,
   "metadata": {},
   "outputs": [
    {
     "name": "stdout",
     "output_type": "stream",
     "text": [
      "<class 'pandas.core.frame.DataFrame'>\n",
      "{'Agriculture & Natural Resources': 632437, 'Arts': 1805865, 'Biology & Life Science': 1338186, 'Business': 9858741, 'Communications & Journalism': 1803822, 'Computers & Mathematics': 1781378, 'Education': 4700118, 'Engineering': 3576013, 'Health': 2950859, 'Humanities & Liberal Arts': 3738335, 'Industrial Arts & Consumer Services': 1018072, 'Industrial Arts & Consumer Services ': 15726, 'Interdisciplinary': 45199, 'Law & Public Policy': 902926, 'Physical Sciences': 1013152, 'Physical Sciences ': 12166, 'Psychology & Social Work': 1987278, 'Social Science': 2654125}\n"
     ]
    }
   ],
   "source": [
    "import numpy as np \n",
    "\n",
    "# On utilise la méthode .pivot_table() qui permet de passer en index les valeurs uniques de \"Major_category\"\n",
    "# En colonnes on définit les valeurs comme étant celle de la colonne \"Total\" du dataset all_ages\n",
    "# On regroupe les données en faisant la somme sur la colonne Total pour chaque major_category unique\n",
    "nbStud_byCat_ages = all_ages.pivot_table(index = \"Major_category\", values=[\"Total\"], aggfunc=np.sum)\n",
    "\n",
    "# On transforme le dataframe nbStud_byCat_ages en un dictionnaire \n",
    "pivot_aa_cat_counts = nbStud_byCat_ages.to_dict('dict')['Total']\n",
    "print(pivot_aa_cat_counts)"
   ]
  },
  {
   "cell_type": "markdown",
   "metadata": {},
   "source": [
    "### 5- Calculer la proportion de jeunes diplômés ayant trouvé un job à faible salaire"
   ]
  },
  {
   "cell_type": "code",
   "execution_count": 31,
   "metadata": {},
   "outputs": [
    {
     "name": "stdout",
     "output_type": "stream",
     "text": [
      "Le pourcentage de jeune diplômés qui ont dû trouver un job à faible salaire est de: 9.853 %.\n"
     ]
    }
   ],
   "source": [
    "# On somme la colonne contenant les proportion de job à faible salaire et on divise par la somme de nombre d'étudiants. \n",
    "# Pour avoir un pourcentage on multiplie par 100\n",
    "\n",
    "low_wage_proportion = ((recent_grads[\"Low_wage_jobs\"].sum())/(recent_grads[\"Total\"].sum()))*100\n",
    "print(f\"Le pourcentage de jeune diplômés qui ont dû trouver un job à faible salaire est de: {low_wage_proportion:.4} %.\")"
   ]
  },
  {
   "cell_type": "markdown",
   "metadata": {},
   "source": [
    "### 6- Comparaison des deux datasets"
   ]
  },
  {
   "cell_type": "code",
   "execution_count": 41,
   "metadata": {},
   "outputs": [
    {
     "name": "stdout",
     "output_type": "stream",
     "text": [
      "Le taux de non-employabilité est plus petit dans le dataset recent_grads comparé au dataset all_ages \n",
      "pendant 42 fois.\n"
     ]
    }
   ],
   "source": [
    "# On récupère les major unique du dataset recent_grads\n",
    "unique_majors_aa = recent_grads[\"Major\"].unique()\n",
    "\n",
    "# On initialise une variable compteur qui comptera le nombre de fois où unemployment_rate\n",
    "# sera plus petite pour recent_grads que pour all_ages\n",
    "rg_lower_count = 0 \n",
    "\n",
    "# On crée une boucle afin de parcourir chaque major unique de recent_grads\n",
    "for major in unique_majors_aa: \n",
    "    \n",
    "    # On crée un masque pour sélectionner les valeurs de all_ages correspondant au major unique\n",
    "    masque_major_aa = all_ages[\"Major\"] == major\n",
    "    \n",
    "    # On applique ce masque sur le dataset all_ages pour récupérer les valeurs correspondantes\n",
    "    major_aa = all_ages[masque_major_aa]\n",
    "    \n",
    "    # On transforme les valeurs de unemployment_rate en une liste pour faciliter la comparaison\n",
    "    aa_unemp = major_aa[\"Unemployment_rate\"].to_list()\n",
    "    \n",
    "    # On réalise les mêmes étapes pour le dataset recent_grads\n",
    "    masque_major_rg = recent_grads[\"Major\"] == major\n",
    "    major_rg = recent_grads[masque_major_rg]\n",
    "    \n",
    "    rg_unemp = major_rg[\"Unemployment_rate\"].to_list()\n",
    "    \n",
    "    # Si le unemployment_rate est plus petit dans le dataset recent_grads on incrément le compteur\n",
    "    if rg_unemp < aa_unemp: \n",
    "        rg_lower_count += 1\n",
    "        \n",
    "print(f\"Le taux de non-employabilité est plus petit dans le dataset recent_grads comparé au dataset all_ages pendant {rg_lower_count} fois.\")"
   ]
  },
  {
   "cell_type": "code",
   "execution_count": null,
   "metadata": {},
   "outputs": [],
   "source": []
  }
 ],
 "metadata": {
  "kernelspec": {
   "display_name": "Python 3",
   "language": "python",
   "name": "python3"
  },
  "language_info": {
   "codemirror_mode": {
    "name": "ipython",
    "version": 3
   },
   "file_extension": ".py",
   "mimetype": "text/x-python",
   "name": "python",
   "nbconvert_exporter": "python",
   "pygments_lexer": "ipython3",
   "version": "3.8.5"
  }
 },
 "nbformat": 4,
 "nbformat_minor": 4
}
