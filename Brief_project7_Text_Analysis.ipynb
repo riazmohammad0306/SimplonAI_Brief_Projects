{
 "cells": [
  {
   "cell_type": "markdown",
   "metadata": {},
   "source": [
    "<h3 style =\"text-decoration: underline\"><center>Brief Project: Analyser du texte avec Python</h3>"
   ]
  },
  {
   "cell_type": "markdown",
   "metadata": {},
   "source": [
    "### 0.0- Rappels sur les fonctions"
   ]
  },
  {
   "cell_type": "markdown",
   "metadata": {},
   "source": [
    "Définition: Les fonctions sont des portions de programmes qui reproduisent les mêmes instructions. Elles permettent d'éviter de recopier un bloc de code plusieurs fois dans un programme à chaque fois qu'on en a besoin. "
   ]
  },
  {
   "cell_type": "code",
   "execution_count": 1,
   "metadata": {},
   "outputs": [],
   "source": [
    "def polynome (x): \n",
    "    x2 = x*x\n",
    "    return x2 + x -5 "
   ]
  },
  {
   "cell_type": "code",
   "execution_count": 2,
   "metadata": {},
   "outputs": [
    {
     "data": {
      "text/plain": [
       "105"
      ]
     },
     "execution_count": 2,
     "metadata": {},
     "output_type": "execute_result"
    }
   ],
   "source": [
    "polynome(10)"
   ]
  },
  {
   "cell_type": "markdown",
   "metadata": {},
   "source": [
    "### 0.1- Utilisation des variables dans une fonction "
   ]
  },
  {
   "cell_type": "markdown",
   "metadata": {},
   "source": [
    "- Une variable créée à l'intérieur d'une fonction n'existe pas à l'extérieur: c'est une variable locale. \n",
    "- Ainsi, pour appeler une variable externe à une fonction au sein de cette fonction on utilise le mot-clé \"global\"."
   ]
  },
  {
   "cell_type": "code",
   "execution_count": 4,
   "metadata": {},
   "outputs": [
    {
     "name": "stdout",
     "output_type": "stream",
     "text": [
      "intérieur du test 3\n",
      "après test 2\n"
     ]
    }
   ],
   "source": [
    "# Sans global la valeur de a n'est pas changée après le test. \n",
    "a = 2\n",
    "def test(): \n",
    "    a = 3\n",
    "    print(\"intérieur du test\", a)\n",
    "\n",
    "test()\n",
    "print(\"après test\", a)"
   ]
  },
  {
   "cell_type": "code",
   "execution_count": 5,
   "metadata": {},
   "outputs": [
    {
     "name": "stdout",
     "output_type": "stream",
     "text": [
      "intérieur du test 3\n",
      "après test 3\n"
     ]
    }
   ],
   "source": [
    "# Avec le global, la valeur de a est bien mise à jour après le test.\n",
    "a = 2\n",
    "def test():\n",
    "    global a\n",
    "    a = 3\n",
    "    print(\"intérieur du test\", a)\n",
    "\n",
    "test()\n",
    "print(\"après test\", a)"
   ]
  },
  {
   "cell_type": "markdown",
   "metadata": {},
   "source": [
    "### 0.2- Les fonctions récursives"
   ]
  },
  {
   "cell_type": "markdown",
   "metadata": {},
   "source": [
    "Définition: Une fonction est dite récursive lorsqu'elle s'appelle elle-même. Pour éviter que la fonction ne s'auto-appelle de manière infinie il faut établir une condition dans laquelle elle ne s'appelle pas afin d'arrêter la récursion.On peut aussi incrémenter la valeur de la variable de sorte à sortir de la boucle."
   ]
  },
  {
   "cell_type": "code",
   "execution_count": 1,
   "metadata": {},
   "outputs": [],
   "source": [
    "def recursive(x): \n",
    "    if x/2 < 1 : \n",
    "        print(\"Je ne m'appelle pas pour x =\",x)\n",
    "        return 1\n",
    "    else: \n",
    "        print(\"Je m'appelle pour x=\",x)\n",
    "        return recursive (x/2) + 1"
   ]
  },
  {
   "cell_type": "code",
   "execution_count": 2,
   "metadata": {},
   "outputs": [
    {
     "name": "stdout",
     "output_type": "stream",
     "text": [
      "Je m'appelle pour x= 10\n",
      "Je m'appelle pour x= 5.0\n",
      "Je m'appelle pour x= 2.5\n",
      "Je ne m'appelle pas pour x = 1.25\n"
     ]
    },
    {
     "data": {
      "text/plain": [
       "4"
      ]
     },
     "execution_count": 2,
     "metadata": {},
     "output_type": "execute_result"
    }
   ],
   "source": [
    "recursive(10)"
   ]
  },
  {
   "cell_type": "markdown",
   "metadata": {},
   "source": [
    "Avantage des fonctions récursives: \n",
    "   - Plus rapide qu'une boucle classique et peut faciliter l'écriture de certain programme. \n",
    "\n",
    "Inconvénient des fonctions récursives: \n",
    "   - La récursion garde toutes les fonctions ouverte et non encore terminées en mémoire alors que la boucle ne conserve en mémoire que l'opération courante.\n",
    "   - La mémoire est vite saturée avec une fonction récursive. "
   ]
  },
  {
   "cell_type": "markdown",
   "metadata": {},
   "source": [
    "### 1.0- Conversion de chaines"
   ]
  },
  {
   "cell_type": "markdown",
   "metadata": {},
   "source": [
    "#### 1.1- Conversion des strings (chaine de caractère) en liste (de mots ou de caractères)"
   ]
  },
  {
   "cell_type": "markdown",
   "metadata": {},
   "source": [
    "Les structures comme les listes sont plus facilement manipulable. On peut donc convertir des strings en liste. "
   ]
  },
  {
   "cell_type": "code",
   "execution_count": 4,
   "metadata": {},
   "outputs": [],
   "source": [
    "s1 = \"Du passé faisons table rase\"\n",
    "\n",
    "# Enumération des éléments de la chaine utilisés comme élément de la liste (élément = lettre).\n",
    "l1 = [i for i in s1]\n",
    "\n",
    "# Méthode .split(), divise la chaine de caractère en une liste de sous-chaines qui sont délimités par un séparateur passé en argument.\n",
    "l2 = s1.split(\"as\")\n",
    "\n",
    "# En l'absence d'argument, Python utilise l'espace comme séparateur par défaut (élément = mot).\n",
    "l3 = s1.split()"
   ]
  },
  {
   "cell_type": "code",
   "execution_count": 5,
   "metadata": {},
   "outputs": [
    {
     "name": "stdout",
     "output_type": "stream",
     "text": [
      "D u   p\n"
     ]
    }
   ],
   "source": [
    "# On peut cibler chaque élément de la liste grâce à son index l1[2] correspond à un espace\n",
    "print(l1[0], l1[1], l1[2], l1[3])"
   ]
  },
  {
   "cell_type": "code",
   "execution_count": 6,
   "metadata": {},
   "outputs": [
    {
     "name": "stdout",
     "output_type": "stream",
     "text": [
      "['Du p', 'sé faisons table r', 'e']\n"
     ]
    }
   ],
   "source": [
    "# On peut split sur certaine chaines de caractères bien défini: le délimiteur \"as\" n'est pas inclus\n",
    "print(l2)"
   ]
  },
  {
   "cell_type": "code",
   "execution_count": 7,
   "metadata": {},
   "outputs": [
    {
     "name": "stdout",
     "output_type": "stream",
     "text": [
      "['Du', 'passé', 'faisons', 'table', 'rase']\n"
     ]
    }
   ],
   "source": [
    "# On accède à chaque mot de la chaine de caractères car ce sont les mots qui sont espacé d'un espace (utilisé comme séparateur par défaut)\n",
    "print(l3)"
   ]
  },
  {
   "cell_type": "markdown",
   "metadata": {},
   "source": [
    "#### 1.2- Conversion d'une liste de mot (ou caractère) en string (chaine de caractère)"
   ]
  },
  {
   "cell_type": "code",
   "execution_count": 8,
   "metadata": {},
   "outputs": [],
   "source": [
    "# Liste de caractères\n",
    "l1 = ['H', 'e', 'l', 'l', 'o', 'W']\n",
    "\n",
    "# Liste de mots\n",
    "l2 = ['Du', 'passé', 'faisons', 'table', 'rase']\n",
    "\n",
    "# Méthode .join() qui combines les caractère d'une liste en une chaine de caractères\n",
    "# ATTENTION : séparateur placé à gauche et liste passée en argument\n",
    "# Ici on join on ne mettant aucun caractère entre les caractères de la liste\n",
    "s1 = \"\".join(l1)\n",
    "\n",
    "# Ici on join en mettant un espace entre les mots de la liste\n",
    "s2 = \" \".join(l2)"
   ]
  },
  {
   "cell_type": "code",
   "execution_count": 9,
   "metadata": {},
   "outputs": [
    {
     "name": "stdout",
     "output_type": "stream",
     "text": [
      "HelloW\n"
     ]
    }
   ],
   "source": [
    "print(s1)"
   ]
  },
  {
   "cell_type": "code",
   "execution_count": 10,
   "metadata": {},
   "outputs": [
    {
     "name": "stdout",
     "output_type": "stream",
     "text": [
      "Du passé faisons table rase\n"
     ]
    }
   ],
   "source": [
    "print(s2)"
   ]
  },
  {
   "cell_type": "markdown",
   "metadata": {},
   "source": [
    "### 2.0- Rechercher et remplacer"
   ]
  },
  {
   "cell_type": "markdown",
   "metadata": {},
   "source": [
    "#### 2.1- Extraction de sous-chaines grâce au slicing"
   ]
  },
  {
   "cell_type": "code",
   "execution_count": 11,
   "metadata": {},
   "outputs": [
    {
     "name": "stdout",
     "output_type": "stream",
     "text": [
      "faisons TABLE\n"
     ]
    }
   ],
   "source": [
    "s1 = \"Faisons table rase\"\n",
    "\n",
    "# Utilisation de la méthode upper() qui transforme les lettres en majuscule\n",
    "# Utilisation de la méthode lower() qui transforme les lettres en minuscule\n",
    "s2 = s1[:8].lower() + s1[8:13].upper()\n",
    "print(s2)"
   ]
  },
  {
   "cell_type": "markdown",
   "metadata": {},
   "source": [
    "#### 2.2- Extraction de sous-chaines par rapport à son contenus"
   ]
  },
  {
   "cell_type": "code",
   "execution_count": 12,
   "metadata": {},
   "outputs": [],
   "source": [
    "s1 = \"Ce texte contient deux fois le mot texte.\""
   ]
  },
  {
   "cell_type": "code",
   "execution_count": 13,
   "metadata": {},
   "outputs": [
    {
     "name": "stdout",
     "output_type": "stream",
     "text": [
      "3\n"
     ]
    }
   ],
   "source": [
    "# Utilisation de la méthode .find(mot_voulu, début, fin) qui permet de rechercher le mot_voulu (ou caractère voulu) dans la chaine à laquelle on applique la méthode\n",
    "# Le résultat est 3 car on débute la recherche à l'index 0, le premier \"texte\" est à l'index 3\n",
    "print(s1.find('texte', 0))"
   ]
  },
  {
   "cell_type": "code",
   "execution_count": 15,
   "metadata": {},
   "outputs": [
    {
     "name": "stdout",
     "output_type": "stream",
     "text": [
      "35\n"
     ]
    }
   ],
   "source": [
    "# Le résultat est 35 car on débute la recherche à l'index 4, il va donc chercher le 2ème \"texte\"\n",
    "print(s1.find(\"texte\", 4))"
   ]
  },
  {
   "cell_type": "code",
   "execution_count": 16,
   "metadata": {},
   "outputs": [
    {
     "name": "stdout",
     "output_type": "stream",
     "text": [
      "-1\n"
     ]
    }
   ],
   "source": [
    "# Le résultat est -1 car on débute la recherche à l'index 36 = premier \"t\" du 2ème \"texte\"\n",
    "print(s1.find('texte', 36))"
   ]
  },
  {
   "cell_type": "code",
   "execution_count": 18,
   "metadata": {},
   "outputs": [
    {
     "name": "stdout",
     "output_type": "stream",
     "text": [
      "3\n",
      "35\n",
      "-1\n"
     ]
    }
   ],
   "source": [
    "s1 = \"Ce texte contient deux fois le mot texte.\"\n",
    "\n",
    "# On peut écrire une boucle while qui permet de répérer tous les index de toutes les occurences du mot recherché.\n",
    "max = 0 \n",
    "while max > -1: \n",
    "    max = s1.find('texte', max +1)\n",
    "    print(max)"
   ]
  },
  {
   "cell_type": "markdown",
   "metadata": {},
   "source": [
    "#### 2.3- Substitution ou élimination de sous-chaines de caractères grâce à l'index"
   ]
  },
  {
   "cell_type": "code",
   "execution_count": 21,
   "metadata": {},
   "outputs": [
    {
     "name": "stdout",
     "output_type": "stream",
     "text": [
      "Le prix est de $2.15 \n"
     ]
    }
   ],
   "source": [
    "# On veut remplacer la chaine de caractères \"deux euros\" par $2.15\n",
    "s1 = \"Le prix est de deux euros.\"\n",
    "\n",
    "# Si le mot euros est dans la phrase\n",
    "if \"euros\" in s1: \n",
    "    \n",
    "    # i récupère l'index de départ du mot \"euros\"\n",
    "    i = s1.index('euros')\n",
    "    \n",
    "    # s2 remplace le mot euros par \"$\" mais laisse tous les autres caractères en place\n",
    "    s2 = s1[:i-5] + '$' + s1[i-5:i]\n",
    "    \n",
    "    # On cherche le mot \"deux\" dans s2 et on obtient son index de départ\n",
    "    j = s2.find(\"deux\")\n",
    "    \n",
    "    # s3 remplace le mot deux par \"2.15\" mais laisse tous les autres caractères en place\n",
    "    s3 = s2[:j] + '2.15' + s2[j+4:]\n",
    "    \n",
    "    print(s3)"
   ]
  },
  {
   "cell_type": "markdown",
   "metadata": {},
   "source": [
    "#### 2.4- Méthode replace(): plus rapide mais moins souple"
   ]
  },
  {
   "cell_type": "code",
   "execution_count": 22,
   "metadata": {},
   "outputs": [
    {
     "name": "stdout",
     "output_type": "stream",
     "text": [
      "Le prix est de $2.15.\n"
     ]
    }
   ],
   "source": [
    "s1 = \"Le prix est de deux euros.\"\n",
    "\n",
    "# On passe en premier argument le mot (ou caractère) à rechercher et en deuxième l'élément qui le remplacera\n",
    "s2 = s1.replace('deux euros', '$2.15')\n",
    "print(s2)"
   ]
  },
  {
   "cell_type": "markdown",
   "metadata": {},
   "source": [
    "#### 2.5- Détection de sous-chaines vérifiant certains critères"
   ]
  },
  {
   "cell_type": "code",
   "execution_count": 28,
   "metadata": {},
   "outputs": [
    {
     "name": "stdout",
     "output_type": "stream",
     "text": [
      "nombre\n",
      "mot\n",
      "?\n"
     ]
    }
   ],
   "source": [
    "# On veut savoir si chacune des chaines de caractères dans la phrase est d'un type particulier: numérique, alphabétique ou un mélange des deux\n",
    "# Si un caractère n'est pas un mélange des deux il est surement un caractère spécial (? par exemple)\n",
    "s = '300 seulement ?'\n",
    "\n",
    "# On divise la phrase en mot pour pouvoir faire des comparaison sur chaque mot\n",
    "l = s.split()\n",
    "\n",
    "for mot in l: \n",
    "    \n",
    "    # Méthode isalpha() teste si une chaine de caractères est composée uniquement de lettres\n",
    "    if mot.isalpha(): \n",
    "        print('mot')\n",
    "        \n",
    "    # Méthode isnumeric() teste si une chaine de caractères est composée uniquement de chiffres\n",
    "    if mot.isnumeric(): \n",
    "        print('nombre')\n",
    "        \n",
    "    # Méthode isalnum() teste si une chaine de caractères est composée d'un mélange des deux\n",
    "    # Ici on vérifie que ce N'EST PAS un mélange des deux en mettant not\n",
    "    if not mot.isalnum(): \n",
    "        print('?')"
   ]
  },
  {
   "cell_type": "markdown",
   "metadata": {},
   "source": [
    "### 3.0- Expressions rationnelles"
   ]
  },
  {
   "cell_type": "markdown",
   "metadata": {},
   "source": [
    "Les expressions rationnelles sont très utiles pour tous les langages qui traitent de l'information textuelle (PHP, Perl). \n",
    "Les expressions rationnelles servent à identifier non pas un bloc spécifique ou un type de caractère mais un motif élaboré pouvant combiner des informations de différents types: \n",
    "   - de type\n",
    "   - d'alphabet\n",
    "   - de positionnement\n",
    "   - de répétition"
   ]
  },
  {
   "cell_type": "markdown",
   "metadata": {},
   "source": [
    "#### 3.1- La fonction findall()"
   ]
  },
  {
   "cell_type": "markdown",
   "metadata": {},
   "source": [
    "La fonction findall() de la librairie \"re\" renvoie la liste des éléments correspondant au motiv recherché."
   ]
  },
  {
   "cell_type": "code",
   "execution_count": 2,
   "metadata": {},
   "outputs": [
    {
     "name": "stdout",
     "output_type": "stream",
     "text": [
      "['Le', 'Argentine']\n",
      "['PIB', 'Argentine', 'baisse', 'depuis']\n"
     ]
    }
   ],
   "source": [
    "# On importe d'abord la librairie 're'\n",
    "from re import findall\n",
    "\n",
    "s = \"Le PIB de l'Argentine baisse depuis 3ans.\"\n",
    "\n",
    "# On identifie les mots commençant par exactement UNE majuscule\n",
    "# Suivi de 1 ou plusieurs lettres en minuscule\n",
    "l1 = findall('[A-Z][a-z]+',s)\n",
    "\n",
    "# On énumère ceux contenant au moins un I majuscule ou un i minuscule\n",
    "#[a-zA-Z] une Majuscule ou une Minuscule peu importe la lettre\n",
    "#[iI] un i Majuscule ou Minuscule\n",
    "# * présent 0 fois ou plus\n",
    "l2 = findall('[a-zA-Z]*[iI][a-zA-Z]*', s)\n",
    "\n",
    "\n",
    "# On print bien une lettre Majuscule suivi de 1 ou plusieurs lettres minuscules\n",
    "print(l1)\n",
    "\n",
    "# On print bien 1 ou plusieurs Majuscule ou minuscule\n",
    "# suivi  de i ou I puis suivi de 1 ou plusieurs Majuscule ou minuscule\n",
    "print(l2)"
   ]
  },
  {
   "cell_type": "markdown",
   "metadata": {},
   "source": [
    "#### 3.2- Quelques expressions"
   ]
  },
  {
   "cell_type": "markdown",
   "metadata": {},
   "source": [
    "#### 3.2.1- Pour la fonction findall()"
   ]
  },
  {
   "cell_type": "raw",
   "metadata": {},
   "source": [
    "- N'importe quel caractère                             : .\n",
    "- x OU y                                               : [x,y]\n",
    "- Un caractère compris entre x et y                    : [x-y]\n",
    "- Débutant par n'importe quel caractère sauf x         : [^x]\n",
    "- Un caractère blanc (espace ou tabulation)            : \\s\n",
    "- Début de ligne                                       : ^\n",
    "- Fin de ligne                                         : $\n",
    "- x puis y                                             : xy\n",
    "- Répété x fois                                        : {x}\n",
    "- Répété entre x et y fois                             : {x,y}"
   ]
  },
  {
   "cell_type": "markdown",
   "metadata": {},
   "source": [
    "#### 3.2.2- Méta-caractères importants"
   ]
  },
  {
   "cell_type": "raw",
   "metadata": {},
   "source": [
    "- Pour échapper les caractères spéciaux                : \\\n",
    "- Répétition 0 ou 1 fois                               : ? \n",
    "- Répétition au moins 1 fois                           : + \n",
    "- Répétition 0 ou plusieurs fois                       : *\n",
    "    \n",
    "- Combinaison délimitant des blocs en particulier pour faire porter des quantificateurs: \n",
    "    - (?:abc){1,3} : abc peut être présent 1 à 3 fois successives"
   ]
  },
  {
   "cell_type": "markdown",
   "metadata": {},
   "source": [
    "Exemple: Repérer tous les numéros de téléphone français dans un bloc de texte. "
   ]
  },
  {
   "cell_type": "code",
   "execution_count": 13,
   "metadata": {},
   "outputs": [
    {
     "name": "stdout",
     "output_type": "stream",
     "text": [
      "['0678828383', '09.34.67.12.11', '03 11 23 20 38', '03 11 23 3003']\n"
     ]
    }
   ],
   "source": [
    "from re import findall \n",
    "motif = '0[1-9](?:[\\s\\.]?[0-9]{2}){4}'\n",
    "n1 = \"0678828383\"\n",
    "n2 = \"09.34.67.12.11\"\n",
    "n3 = \"03 11 23 20 38\"\n",
    "n4 = \"03 11 23 30\"\n",
    "n5 = \"03.11 23 2038\"\n",
    "n6 = \"03-23-20-20-38\"\n",
    "s = n1+n2+n3+n4+n5+n6\n",
    "\n",
    "print(findall(motif,s))"
   ]
  },
  {
   "cell_type": "markdown",
   "metadata": {},
   "source": [
    "#### 3.3- Le remplacement grâce aux expressions rationnelles"
   ]
  },
  {
   "cell_type": "markdown",
   "metadata": {},
   "source": [
    "La fonction de recherche est utile pour: \n",
    "   - extraire de l'information d'un texte \n",
    "   - effectuer des remplacements automatiques\n",
    "   - traduire du texte\n",
    "   - chiffre du texte\n",
    "   - désactiver du contenu sensible (i.e, blocs de code)"
   ]
  },
  {
   "cell_type": "markdown",
   "metadata": {},
   "source": [
    "#### 3.3.1- La fonction sub()"
   ]
  },
  {
   "cell_type": "markdown",
   "metadata": {},
   "source": [
    "Elle prend en arguments 3 éléments: \n",
    "   - un motif de recherche\n",
    "   - une valeur de remplacement\n",
    "   - la chaine où faire la recherche"
   ]
  },
  {
   "cell_type": "code",
   "execution_count": 15,
   "metadata": {},
   "outputs": [
    {
     "name": "stdout",
     "output_type": "stream",
     "text": [
      "Un texte HTML<strong/>avec des balises et même <script type =\"text/javscript\">var i = 5 ;</script> du javascript dedans.\n"
     ]
    }
   ],
   "source": [
    "# On importe la fonction depuis la librairie \"re\"\n",
    "from re import sub\n",
    "\n",
    "s = \"Un texte <strong>HTML<strong/>avec des balises\"\n",
    "s+= ' et même <script type =\"text/javscript\">'\n",
    "s+= 'var i = 5 ;</script> du javascript dedans.'\n",
    "\n",
    "s1 = sub('<[a-z]*>','',s)\n",
    "print(s1)"
   ]
  },
  {
   "cell_type": "markdown",
   "metadata": {},
   "source": [
    "La détection précédente ne fonctionne qu'avec les balises ouvrantes. \n",
    "Pour prendre en compte les balises fermantes on doit ajouter la détection de caractères spéciaux entre les balises. "
   ]
  },
  {
   "cell_type": "code",
   "execution_count": 19,
   "metadata": {},
   "outputs": [
    {
     "name": "stdout",
     "output_type": "stream",
     "text": [
      "Un texte  du javascript dedans.\n",
      "Un texte HTML avec des balises et même  var i = 5 ; du javascript dedans.\n",
      "Un texte HTML avec des balises et même  var i = 5 ; du javascript dedans.\n"
     ]
    }
   ],
   "source": [
    "s = \"Un texte <strong>HTML<strong/> avec des balises\"\n",
    "s+= ' et même <script type =\"text/javscript\">'\n",
    "s+= ' var i = 5 ;</script> du javascript dedans.'\n",
    "\n",
    "# On remplace par une chaine de caractère vide TOUT ce qu'il y a entre un < et un >,\n",
    "# soit quasi-tout le texte\n",
    "s1 = sub('<.*>','',s)\n",
    "\n",
    "# On doit déclarer tout ce qu'on ne garde pas, long\n",
    "s2 = sub('<[a-z\\\\/\"=\\s]*>','',s)\n",
    "\n",
    "# On s'arrête au premier chevron fermant\n",
    "s3 = sub('<[^>]*>','',s)\n",
    "print(s1)\n",
    "print(s2)\n",
    "print(s3)"
   ]
  },
  {
   "cell_type": "markdown",
   "metadata": {},
   "source": [
    "### 4.0- Exercices"
   ]
  },
  {
   "cell_type": "markdown",
   "metadata": {},
   "source": [
    "#### 4.1- Renvoyer tous les mots de la chaine \"s\" commençant par une majuscule"
   ]
  },
  {
   "cell_type": "markdown",
   "metadata": {},
   "source": [
    "Par utilisation des expressions régulières:"
   ]
  },
  {
   "cell_type": "code",
   "execution_count": 52,
   "metadata": {},
   "outputs": [],
   "source": [
    "# On crée une fonction qui prend en argument un string \n",
    "def hascap_regex(s):\n",
    "    \n",
    "    # On recherche le pattern correspondant à une Majuscule suivi de 0 ou plusieurs minuscule\n",
    "    upper_word = findall('[A-Z][a-z]*',s)\n",
    "    return upper_word"
   ]
  },
  {
   "cell_type": "code",
   "execution_count": 53,
   "metadata": {},
   "outputs": [
    {
     "data": {
      "text/plain": [
       "['Ceci', 'Une', 'Teste']"
      ]
     },
     "execution_count": 53,
     "metadata": {},
     "output_type": "execute_result"
    }
   ],
   "source": [
    "hascap_regex(\"Ceci est Une phrase Teste\")"
   ]
  },
  {
   "cell_type": "markdown",
   "metadata": {},
   "source": [
    "Par utilisation de la fonction ord(): "
   ]
  },
  {
   "cell_type": "code",
   "execution_count": 54,
   "metadata": {},
   "outputs": [],
   "source": [
    "def hascape(s): \n",
    "    \n",
    "    # On divise la phrase en liste de mots\n",
    "    liste_mot = s.split()\n",
    "    \n",
    "    # On initialise une liste vide dans laquelle on stockera les mots commençant par une majuscule\n",
    "    mot_maj = []\n",
    "    \n",
    "    # Utilisation d'une boucle for pour tester le code ASCII de la première lettre du mot\n",
    "    # et savoir si cette lettre est une majuscule ou pas \n",
    "    for mot in liste_mot: \n",
    "        if 65 <= ord(mot[0]) <= 90: \n",
    "            mot_maj.append(mot)\n",
    "    \n",
    "    return mot_maj"
   ]
  },
  {
   "cell_type": "code",
   "execution_count": 55,
   "metadata": {},
   "outputs": [
    {
     "data": {
      "text/plain": [
       "['Ceci', 'Une', 'Teste']"
      ]
     },
     "execution_count": 55,
     "metadata": {},
     "output_type": "execute_result"
    }
   ],
   "source": [
    "hascape(\"Ceci est Une phrase Teste\")"
   ]
  },
  {
   "cell_type": "markdown",
   "metadata": {},
   "source": [
    "#### 4.2- Doubler la valeurs de tous les nombres dans la chaine \"s\""
   ]
  },
  {
   "cell_type": "code",
   "execution_count": 72,
   "metadata": {},
   "outputs": [],
   "source": [
    "def inflation(s): \n",
    "    \n",
    "    # On divise la phrase en liste de mots \n",
    "    liste_mot = s.split()\n",
    "    \n",
    "    # On utilise enumerate pour avoir à la fois le mot et son idex associé dans la liste de mots\n",
    "    for index, mot in enumerate(liste_mot): \n",
    "        \n",
    "        # On vérifie que la chaine de caractères est composé uniquement de chiffres\n",
    "        if mot.isnumeric(): \n",
    "            \n",
    "            # Si c'est le cas, on multiplie le nombre par deux, après avoir converti le str en int \n",
    "            # puis on le reconverti en str afin de l'inclure dans la phrase\n",
    "            liste_mot[index] = str(int(mot)*2)\n",
    "     \n",
    "    # On fait un join sur la liste de mot, contenant tous les mots qui doivent s'associer avec un espace pour former la phrase\n",
    "    return(\" \".join(liste_mot))"
   ]
  },
  {
   "cell_type": "code",
   "execution_count": 73,
   "metadata": {},
   "outputs": [
    {
     "data": {
      "text/plain": [
       "'Le prix est de 10 euros et de 20 euros.'"
      ]
     },
     "execution_count": 73,
     "metadata": {},
     "output_type": "execute_result"
    }
   ],
   "source": [
    "inflation(\"Le prix est de 5 euros et de 10 euros.\")"
   ]
  },
  {
   "cell_type": "markdown",
   "metadata": {},
   "source": [
    "#### 4.3- Retourner à partir d'un texte, des lignes de tailles définies"
   ]
  },
  {
   "cell_type": "code",
   "execution_count": 81,
   "metadata": {},
   "outputs": [],
   "source": [
    "def lignes(s): \n",
    "    \n",
    "    # On divise la phrase en liste de mots\n",
    "    liste_mots = s.split()\n",
    "    \n",
    "    # On initialise une liste contenant une chaine de caractère vide\n",
    "    lignes = [\"\"]\n",
    "    \n",
    "    \n",
    "    # Pour chaque mot dans la liste de mot\n",
    "    for mot in liste_mots: \n",
    "        \n",
    "        # On ajoute un espace à la fin du mot\n",
    "        mot = mot + \" \"\n",
    "        \n",
    "        # Si la longueur du mot + la longueur du dernier élément de la liste est < 24\n",
    "        if len(mot) + len(lignes[-1]) < 24: \n",
    "            \n",
    "            # Alors, on ajoule mot en dernier élément de la liste vide \n",
    "            lignes[-1] += mot\n",
    "        \n",
    "        # Sinon on ajout el mot en tant que dernier élément de la liste\n",
    "        else: \n",
    "            lignes.append(mot)\n",
    "        \n",
    "    return lignes"
   ]
  },
  {
   "cell_type": "code",
   "execution_count": 84,
   "metadata": {},
   "outputs": [
    {
     "data": {
      "text/plain": [
       "['Onze and déjà que cela ',\n",
       " 'passe vite Vous vous ',\n",
       " 'étiez servis ',\n",
       " 'simplement de vos ',\n",
       " 'armes la mort ',\n",
       " \"n'éblouit pas les yeux \",\n",
       " 'des partisans Vous ',\n",
       " 'aviez vos portraits ',\n",
       " 'sur les murs de nos ',\n",
       " 'villes ']"
      ]
     },
     "execution_count": 84,
     "metadata": {},
     "output_type": "execute_result"
    }
   ],
   "source": [
    "s = \"Onze and déjà que cela passe vite Vous \"\n",
    "s+= \"vous étiez servis simplement de vos armes la \"\n",
    "s+= \"mort n'éblouit pas les yeux des partisans Vous \"\n",
    "s+= \"aviez vos portraits sur les murs de nos villes \"\n",
    "\n",
    "lignes(s)"
   ]
  },
  {
   "cell_type": "markdown",
   "metadata": {},
   "source": [
    "#### 4.4- Renvoyer la liste de tous les nombres d'une chaines de caractères"
   ]
  },
  {
   "cell_type": "code",
   "execution_count": 87,
   "metadata": {},
   "outputs": [],
   "source": [
    "from re import findall\n",
    "def number_list(s): \n",
    "    \n",
    "    # ? = Optional 0 or 1\n",
    "    # * = O or More \n",
    "    # + = 1 or More \n",
    "    \n",
    "    \n",
    "    # On veut identifier tous les patterns commençant ou pas par un -\n",
    "    # suivi d'un chiffre répété 1 fois ou plus\n",
    "    # suivi d'un point qui est peut être présent ou pas \n",
    "    # suivi d'un chiffre répété 0 fois ou plus\n",
    "    motif = '-?[0-9]+.?[0-9]*'\n",
    "    \n",
    "    # On applique la fonction findall qui retournera les mot contenant le motif recherché dans s.\n",
    "    print(findall(motif, s))"
   ]
  },
  {
   "cell_type": "code",
   "execution_count": 88,
   "metadata": {},
   "outputs": [
    {
     "name": "stdout",
     "output_type": "stream",
     "text": [
      "['2 ', '6.50', '-3.20', '1 ']\n"
     ]
    }
   ],
   "source": [
    "number_list(\"Les 2 maqueraux valent 6.50 euros et ont perdu -3.20 euros en 1 semaine.\")"
   ]
  },
  {
   "cell_type": "markdown",
   "metadata": {},
   "source": [
    "#### 4.5- Proposer une fonction arrondi(s) qui troncature tous les nombres décimaux"
   ]
  },
  {
   "cell_type": "code",
   "execution_count": 95,
   "metadata": {},
   "outputs": [],
   "source": [
    "def arrondi(s): \n",
    "    \n",
    "    \n",
    "    # On constitue des blocs de patterns entre parenthèse\n",
    "    # cela permet de sélectionner le bloc d'intérêt voulu dans la fonction sub\n",
    "    motif = '(-?)([0-9]+).?[0-9]*'\n",
    "    \n",
    "    # La fonction sub retournera à la place des nombres ayant tout le motif, \n",
    "    # le nombre ayant seulement une partie du motif correspondant au groupe 1 et 2 \n",
    "    # soit (-?) = un signe - présent ou pas \n",
    "    # suivi de [0-9]+ = un chiffre présent 1 à plusieurs fois \n",
    "    # On ne prend donc pas ce qui viendra après la virgule possible ou pas .?\n",
    "    return sub(motif, r\"\\1\\2\",s)"
   ]
  },
  {
   "cell_type": "code",
   "execution_count": 96,
   "metadata": {},
   "outputs": [
    {
     "data": {
      "text/plain": [
       "'Les maqueraux valent 6 euros et ont perdu -3 euros en une semaine.'"
      ]
     },
     "execution_count": 96,
     "metadata": {},
     "output_type": "execute_result"
    }
   ],
   "source": [
    "arrondi(\"Les maqueraux valent 6.50 euros et ont perdu -3.20 euros en une semaine.\")"
   ]
  }
 ],
 "metadata": {
  "kernelspec": {
   "display_name": "Python 3",
   "language": "python",
   "name": "python3"
  },
  "language_info": {
   "codemirror_mode": {
    "name": "ipython",
    "version": 3
   },
   "file_extension": ".py",
   "mimetype": "text/x-python",
   "name": "python",
   "nbconvert_exporter": "python",
   "pygments_lexer": "ipython3",
   "version": "3.8.5"
  }
 },
 "nbformat": 4,
 "nbformat_minor": 4
}
