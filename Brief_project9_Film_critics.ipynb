{
 "cells": [
  {
   "cell_type": "markdown",
   "metadata": {},
   "source": [
    "<h3 style =\"text-decoration: underline\"><center>Brief Project : Critiques de films</h3>"
   ]
  },
  {
   "cell_type": "markdown",
   "metadata": {},
   "source": [
    "### Question : Les notes de films sur Fandango sont-elles sur/sous-évaluées pour augmenter les ventes de films ? "
   ]
  },
  {
   "cell_type": "code",
   "execution_count": 1,
   "metadata": {},
   "outputs": [],
   "source": [
    "import pandas as pd "
   ]
  },
  {
   "cell_type": "code",
   "execution_count": 2,
   "metadata": {},
   "outputs": [],
   "source": [
    "reviews = pd.read_csv(\"fandango_scores.csv\")"
   ]
  },
  {
   "cell_type": "code",
   "execution_count": 3,
   "metadata": {},
   "outputs": [],
   "source": [
    "# On attribue au dataframe norm_reviews seulement les colonnes d'intérêt présentes dans le dataframe original\n",
    "norm_reviews = reviews[[\"FILM\",\"RT_user_norm\",'Metacritic_user_nom',\"IMDB_norm\",\"Fandango_Ratingvalue\",\"Fandango_Stars\"]]"
   ]
  },
  {
   "cell_type": "code",
   "execution_count": 4,
   "metadata": {},
   "outputs": [
    {
     "data": {
      "text/html": [
       "<div>\n",
       "<style scoped>\n",
       "    .dataframe tbody tr th:only-of-type {\n",
       "        vertical-align: middle;\n",
       "    }\n",
       "\n",
       "    .dataframe tbody tr th {\n",
       "        vertical-align: top;\n",
       "    }\n",
       "\n",
       "    .dataframe thead th {\n",
       "        text-align: right;\n",
       "    }\n",
       "</style>\n",
       "<table border=\"1\" class=\"dataframe\">\n",
       "  <thead>\n",
       "    <tr style=\"text-align: right;\">\n",
       "      <th></th>\n",
       "      <th>RT_user_norm</th>\n",
       "      <th>Metacritic_user_nom</th>\n",
       "      <th>IMDB_norm</th>\n",
       "      <th>Fandango_Ratingvalue</th>\n",
       "      <th>Fandango_Stars</th>\n",
       "    </tr>\n",
       "    <tr>\n",
       "      <th>FILM</th>\n",
       "      <th></th>\n",
       "      <th></th>\n",
       "      <th></th>\n",
       "      <th></th>\n",
       "      <th></th>\n",
       "    </tr>\n",
       "  </thead>\n",
       "  <tbody>\n",
       "    <tr>\n",
       "      <th>Avengers: Age of Ultron (2015)</th>\n",
       "      <td>4.3</td>\n",
       "      <td>3.55</td>\n",
       "      <td>3.90</td>\n",
       "      <td>4.5</td>\n",
       "      <td>5.0</td>\n",
       "    </tr>\n",
       "    <tr>\n",
       "      <th>Cinderella (2015)</th>\n",
       "      <td>4.0</td>\n",
       "      <td>3.75</td>\n",
       "      <td>3.55</td>\n",
       "      <td>4.5</td>\n",
       "      <td>5.0</td>\n",
       "    </tr>\n",
       "    <tr>\n",
       "      <th>Ant-Man (2015)</th>\n",
       "      <td>4.5</td>\n",
       "      <td>4.05</td>\n",
       "      <td>3.90</td>\n",
       "      <td>4.5</td>\n",
       "      <td>5.0</td>\n",
       "    </tr>\n",
       "    <tr>\n",
       "      <th>Do You Believe? (2015)</th>\n",
       "      <td>4.2</td>\n",
       "      <td>2.35</td>\n",
       "      <td>2.70</td>\n",
       "      <td>4.5</td>\n",
       "      <td>5.0</td>\n",
       "    </tr>\n",
       "    <tr>\n",
       "      <th>Hot Tub Time Machine 2 (2015)</th>\n",
       "      <td>1.4</td>\n",
       "      <td>1.70</td>\n",
       "      <td>2.55</td>\n",
       "      <td>3.0</td>\n",
       "      <td>3.5</td>\n",
       "    </tr>\n",
       "  </tbody>\n",
       "</table>\n",
       "</div>"
      ],
      "text/plain": [
       "                                RT_user_norm  Metacritic_user_nom  IMDB_norm  \\\n",
       "FILM                                                                           \n",
       "Avengers: Age of Ultron (2015)           4.3                 3.55       3.90   \n",
       "Cinderella (2015)                        4.0                 3.75       3.55   \n",
       "Ant-Man (2015)                           4.5                 4.05       3.90   \n",
       "Do You Believe? (2015)                   4.2                 2.35       2.70   \n",
       "Hot Tub Time Machine 2 (2015)            1.4                 1.70       2.55   \n",
       "\n",
       "                                Fandango_Ratingvalue  Fandango_Stars  \n",
       "FILM                                                                  \n",
       "Avengers: Age of Ultron (2015)                   4.5             5.0  \n",
       "Cinderella (2015)                                4.5             5.0  \n",
       "Ant-Man (2015)                                   4.5             5.0  \n",
       "Do You Believe? (2015)                           4.5             5.0  \n",
       "Hot Tub Time Machine 2 (2015)                    3.0             3.5  "
      ]
     },
     "execution_count": 4,
     "metadata": {},
     "output_type": "execute_result"
    }
   ],
   "source": [
    "# On utilise la méthode .set_index() qui permet de passer en index une colonne\n",
    "# Ici la seule colonne non numérique étant \"FILM\" on choisit de la mettre en index \n",
    "# Afin que l'on puisse accéder aux notes d'un film directement par son titre\n",
    "norm_reviews = norm_reviews.set_index('FILM')\n",
    "norm_reviews.head(5)"
   ]
  },
  {
   "cell_type": "markdown",
   "metadata": {},
   "source": [
    "### 1- Diagrammes en barre"
   ]
  },
  {
   "cell_type": "code",
   "execution_count": 5,
   "metadata": {},
   "outputs": [],
   "source": [
    "import matplotlib.pyplot as plt \n",
    "from numpy import arange\n",
    "\n",
    "# On note le nom des colonnes dans une variable séparée\n",
    "num_cols = [\"RT_user_norm\",'Metacritic_user_nom',\"IMDB_norm\",\"Fandango_Ratingvalue\",\"Fandango_Stars\"]\n",
    "\n",
    "# On spécifie les coordonnées x de toutes les barres, on veut qu'elles soient situé à 1, 2, 3, 4 et 5\n",
    "bar_positions = arange(5) + 1\n",
    "\n",
    "# On spécifie les coordonnées y de toutes les barres pour le film souhaité\n",
    "# On récupère les valeurs associées à chacune des colonnes pour ce film grâce à values\n",
    "bar_heights = norm_reviews[num_cols].loc[\"Avengers: Age of Ultron (2015)\"].values"
   ]
  },
  {
   "cell_type": "code",
   "execution_count": 8,
   "metadata": {},
   "outputs": [
    {
     "data": {
      "image/png": "[encoded data removed]",
      "text/plain": [
       "<Figure size 432x288 with 1 Axes>"
      ]
     },
     "metadata": {
      "needs_background": "light"
     },
     "output_type": "display_data"
    }
   ],
   "source": [
    "# On initialise la figure en créant un sous-graphique\n",
    "fig, ax = plt.subplots()\n",
    "\n",
    "# On passe nos arguments x, y et width pour largeur des barres\n",
    "ax.bar(bar_positions, bar_heights, width = 0.5)\n",
    "\n",
    "# On affiche le diagramme en barre\n",
    "plt.show()"
   ]
  },
  {
   "cell_type": "markdown",
   "metadata": {},
   "source": [
    "Cependant, cette représentation manque d'informations de type libellé des axes et titre de figure. On améliore donc ce diagramme en barre dans le prochain exercice. "
   ]
  },
  {
   "cell_type": "markdown",
   "metadata": {},
   "source": [
    "### 1.1- Alignement de l'intitulé et le trait sur l'axe x "
   ]
  },
  {
   "cell_type": "code",
   "execution_count": 10,
   "metadata": {},
   "outputs": [
    {
     "data": {
      "image/png": "[encoded data removed]",
      "text/plain": [
       "<Figure size 432x288 with 1 Axes>"
      ]
     },
     "metadata": {
      "needs_background": "light"
     },
     "output_type": "display_data"
    }
   ],
   "source": [
    "# On initialise un sous-graphique aves les mêmes paramètres que précédemment\n",
    "fig,ax = plt.subplots()\n",
    "ax.bar(bar_positions, bar_heights, 0.5)\n",
    "\n",
    "# On définit la position de chacune des barres\n",
    "ax.set_xticks(bar_positions)\n",
    "\n",
    "# On remplace le numéro des barres par le nom des colonnes et on les affiche à 90° pour plus de lisibilité\n",
    "ax.set_xticklabels(num_cols, rotation = 90)\n",
    "\n",
    "# On définit l'axe des abscisses\n",
    "ax.set_xlabel(\"Sources de notation\")\n",
    "\n",
    "# On définit l'axe des ordonnées \n",
    "ax.set_ylabel(\"Note moyenne\")\n",
    "\n",
    "# On définit un titre\n",
    "ax.set_title(\"Moyenne des notes utilisateurs pour le film Avengers: Age of Ultron (2015)\")\n",
    "\n",
    "plt.show()"
   ]
  },
  {
   "cell_type": "markdown",
   "metadata": {},
   "source": [
    "On observe que les notes de Fandango sont plus élevées que pour les notes de Metacritic ou IMDB pour le film Avengers: Age of Ultron (2015)."
   ]
  },
  {
   "cell_type": "markdown",
   "metadata": {},
   "source": [
    "### 2- Diagramme en barres horizontales"
   ]
  },
  {
   "cell_type": "code",
   "execution_count": 13,
   "metadata": {},
   "outputs": [
    {
     "data": {
      "image/png": "[encoded data removed]",
      "text/plain": [
       "<Figure size 432x288 with 1 Axes>"
      ]
     },
     "metadata": {
      "needs_background": "light"
     },
     "output_type": "display_data"
    }
   ],
   "source": [
    "# On initialise un sous_graphiques avec les mêmes paramètres que précédemment\n",
    "fig,ax = plt.subplots()\n",
    "\n",
    "# À l'exception qu'il s'agit ici d'un diagramme en barre horizontales\n",
    "ax.barh(bar_positions, bar_heights, height = 0.5)\n",
    "\n",
    "# On définit la position de chacune des barres\n",
    "ax.set_yticks(bar_positions)\n",
    "\n",
    "# On remplace le numéro des barres par le nom des colonnes \n",
    "ax.set_yticklabels(num_cols)\n",
    "\n",
    "# Définition des libellés des axes et du titre\n",
    "ax.set_ylabel(\"Sources de notation\")\n",
    "ax.set_xlabel(\"Note moyenne\")\n",
    "ax.set_title(\"Moyenne des notes utilisateurs pour le film Avengers: Age of Ultron (2015)\")\n",
    "\n",
    "plt.show()"
   ]
  },
  {
   "cell_type": "markdown",
   "metadata": {},
   "source": [
    "### 3- Graphique à nuage de points"
   ]
  },
  {
   "cell_type": "code",
   "execution_count": 14,
   "metadata": {},
   "outputs": [
    {
     "data": {
      "image/png": "[encoded data removed]",
      "text/plain": [
       "<Figure size 432x288 with 1 Axes>"
      ]
     },
     "metadata": {
      "needs_background": "light"
     },
     "output_type": "display_data"
    }
   ],
   "source": [
    "fig, ax = plt.subplots()\n",
    "\n",
    "x = norm_reviews['Fandango_Ratingvalue']\n",
    "y = norm_reviews['RT_user_norm']\n",
    "\n",
    "# On définit les axes\n",
    "ax.set_xlabel(\"Fandango\")\n",
    "ax.set_ylabel(\"Rotten Tomatoes\")\n",
    "\n",
    "# On représente un graphique en nuage de points grâce à la fonction .scatter()\n",
    "ax.scatter(x,y)\n",
    "plt.show()"
   ]
  },
  {
   "cell_type": "markdown",
   "metadata": {},
   "source": [
    "Avec ce graphique on représente les notes des films pour le site Rotten Tomatoes en fonction des notes des films pour le site Fandango et on observe que: \n",
    "- les films sont notés quasiment de la même manière, plus les notes sont élevée pour le site Fandango plus elles le sont aussi pour le site Rotten Tomatoes."
   ]
  },
  {
   "cell_type": "markdown",
   "metadata": {},
   "source": [
    "### 3.1- Intervertir les axes"
   ]
  },
  {
   "cell_type": "code",
   "execution_count": 146,
   "metadata": {},
   "outputs": [
    {
     "data": {
      "image/png": "[encoded data removed]",
      "text/plain": [
       "<Figure size 720x360 with 2 Axes>"
      ]
     },
     "metadata": {
      "needs_background": "light"
     },
     "output_type": "display_data"
    }
   ],
   "source": [
    "fig = plt.figure(figsize =(10,5))\n",
    "\n",
    "# On initialise 2 sous-graphiques, le tout présent sur une ligne et 2 colonnes. \n",
    "# Le dernier paramètre d'entrée permet de spécifier le sous-graphique sur lequel on travaille\n",
    "# Ainsi que son positionnement\n",
    "ax1 = fig.add_subplot(1,2,1)\n",
    "ax2 = fig.add_subplot(1,2,2)\n",
    "\n",
    "# Ici, x = norm_reviews['Fandango_Ratingvalue']\n",
    "# et y = norm_reviews['RT_user_norm']\n",
    "ax1.scatter(norm_reviews['Fandango_Ratingvalue'], norm_reviews['RT_user_norm'])\n",
    "\n",
    "# On nomme l'axe des abscisses\n",
    "ax1.set_xlabel('Fandango')\n",
    "\n",
    "# On nomme l'axe des ordonnées\n",
    "ax1.set_ylabel(\"Rotten Tomatoes\")\n",
    "\n",
    "# On fait de même pour le deuxième nuages de points en spécifiant qu'il s'agit bien de ax2\n",
    "# qui est positionnée en deuxième. \n",
    "ax2.scatter(norm_reviews['RT_user_norm'], norm_reviews['Fandango_Ratingvalue'])\n",
    "ax2.set_ylabel('Fandango')\n",
    "ax2.set_xlabel(\"Rotten Tomatoes\")\n",
    "\n",
    "plt.show()"
   ]
  },
  {
   "cell_type": "markdown",
   "metadata": {},
   "source": [
    "Après avoir intervertit les axes pour voir l'évolution des notes de films d'un site en fonction de l'autre, on observe qu'il a une certaine corrélation qui serait de type linéaire. On observe une augmentation plus linéaire des notes de films pour le site Fandango que pour le site Rotten Tomatoes. "
   ]
  },
  {
   "cell_type": "markdown",
   "metadata": {},
   "source": [
    "### 3.2- Comparaison de corrélations"
   ]
  },
  {
   "cell_type": "code",
   "execution_count": 151,
   "metadata": {},
   "outputs": [
    {
     "data": {
      "image/png": "[encoded data removed]",
      "text/plain": [
       "<Figure size 720x360 with 3 Axes>"
      ]
     },
     "metadata": {
      "needs_background": "light"
     },
     "output_type": "display_data"
    }
   ],
   "source": [
    "fig = plt.figure(figsize = (10,5))\n",
    "\n",
    "# On initialise 3 sous-graphiques placés sur une ligne et trois colonnes. \n",
    "ax1 = fig.add_subplot(1,3,1)\n",
    "ax2 = fig.add_subplot(1,3,2)\n",
    "ax3 = fig.add_subplot(1,3,3)\n",
    "\n",
    "ax1.scatter(norm_reviews['Fandango_Ratingvalue'], norm_reviews['RT_user_norm'])\n",
    "ax1.set_xlabel('Fandango')\n",
    "ax1.set_ylabel(\"Rotten Tomatoes\")\n",
    "\n",
    "# On fixe la plage d'affichage de l'axe des abscisses de 0 à 5 \n",
    "ax1.set_xlim(0,5)\n",
    "\n",
    "# On fixe la plage d'affichage de l'axe des ordonnées de 0 à 5 \n",
    "ax1.set_ylim(0,5)\n",
    "\n",
    "ax2.scatter(norm_reviews['Fandango_Ratingvalue'], norm_reviews[\"Metacritic_user_nom\"])\n",
    "ax2.set_xlabel('Fandango')\n",
    "ax2.set_ylabel(\"Metacritic\")\n",
    "ax2.set_xlim(0,5)\n",
    "ax2.set_ylim(0,5)\n",
    "\n",
    "ax3.scatter(norm_reviews['Fandango_Ratingvalue'], norm_reviews[\"IMDB_norm\"])\n",
    "ax3.set_xlabel('Fandango')\n",
    "ax3.set_ylabel(\"IMDB\")\n",
    "ax3.set_xlim(0,5)\n",
    "ax3.set_ylim(0,5)\n",
    "\n",
    "\n",
    "plt.show()"
   ]
  },
  {
   "cell_type": "markdown",
   "metadata": {},
   "source": [
    "Sur ces graphiques, on observe que le snotes de Fandango semblent toutes supérieures à 2.5 alors que les notes des films des autres sites débutent à 1 pour Rotten Tomatoes et Metacritic et à quasiment 2 pour IMDB. La distribution des notes semblent donc plus dispersée que les autres sites que pour Fandango. Il semblerait que Fandango ai donc tendance à surnoter les films. "
   ]
  },
  {
   "cell_type": "code",
   "execution_count": 15,
   "metadata": {},
   "outputs": [
    {
     "data": {
      "text/html": [
       "<div>\n",
       "<style scoped>\n",
       "    .dataframe tbody tr th:only-of-type {\n",
       "        vertical-align: middle;\n",
       "    }\n",
       "\n",
       "    .dataframe tbody tr th {\n",
       "        vertical-align: top;\n",
       "    }\n",
       "\n",
       "    .dataframe thead th {\n",
       "        text-align: right;\n",
       "    }\n",
       "</style>\n",
       "<table border=\"1\" class=\"dataframe\">\n",
       "  <thead>\n",
       "    <tr style=\"text-align: right;\">\n",
       "      <th></th>\n",
       "      <th>RT_user_norm</th>\n",
       "      <th>Metacritic_user_nom</th>\n",
       "      <th>IMDB_norm</th>\n",
       "      <th>Fandango_Ratingvalue</th>\n",
       "      <th>Fandango_Stars</th>\n",
       "    </tr>\n",
       "  </thead>\n",
       "  <tbody>\n",
       "    <tr>\n",
       "      <th>RT_user_norm</th>\n",
       "      <td>1.000000</td>\n",
       "      <td>0.687132</td>\n",
       "      <td>0.895297</td>\n",
       "      <td>0.724329</td>\n",
       "      <td>0.703683</td>\n",
       "    </tr>\n",
       "    <tr>\n",
       "      <th>Metacritic_user_nom</th>\n",
       "      <td>0.687132</td>\n",
       "      <td>1.000000</td>\n",
       "      <td>0.756265</td>\n",
       "      <td>0.336945</td>\n",
       "      <td>0.337497</td>\n",
       "    </tr>\n",
       "    <tr>\n",
       "      <th>IMDB_norm</th>\n",
       "      <td>0.895297</td>\n",
       "      <td>0.756265</td>\n",
       "      <td>1.000000</td>\n",
       "      <td>0.600354</td>\n",
       "      <td>0.587295</td>\n",
       "    </tr>\n",
       "    <tr>\n",
       "      <th>Fandango_Ratingvalue</th>\n",
       "      <td>0.724329</td>\n",
       "      <td>0.336945</td>\n",
       "      <td>0.600354</td>\n",
       "      <td>1.000000</td>\n",
       "      <td>0.959709</td>\n",
       "    </tr>\n",
       "    <tr>\n",
       "      <th>Fandango_Stars</th>\n",
       "      <td>0.703683</td>\n",
       "      <td>0.337497</td>\n",
       "      <td>0.587295</td>\n",
       "      <td>0.959709</td>\n",
       "      <td>1.000000</td>\n",
       "    </tr>\n",
       "  </tbody>\n",
       "</table>\n",
       "</div>"
      ],
      "text/plain": [
       "                      RT_user_norm  Metacritic_user_nom  IMDB_norm  \\\n",
       "RT_user_norm              1.000000             0.687132   0.895297   \n",
       "Metacritic_user_nom       0.687132             1.000000   0.756265   \n",
       "IMDB_norm                 0.895297             0.756265   1.000000   \n",
       "Fandango_Ratingvalue      0.724329             0.336945   0.600354   \n",
       "Fandango_Stars            0.703683             0.337497   0.587295   \n",
       "\n",
       "                      Fandango_Ratingvalue  Fandango_Stars  \n",
       "RT_user_norm                      0.724329        0.703683  \n",
       "Metacritic_user_nom               0.336945        0.337497  \n",
       "IMDB_norm                         0.600354        0.587295  \n",
       "Fandango_Ratingvalue              1.000000        0.959709  \n",
       "Fandango_Stars                    0.959709        1.000000  "
      ]
     },
     "execution_count": 15,
     "metadata": {},
     "output_type": "execute_result"
    }
   ],
   "source": [
    "# On peut appuyer nos observation graphique par l'étude des coefficient de corrélation\n",
    "norm_reviews.corr()"
   ]
  },
  {
   "cell_type": "markdown",
   "metadata": {},
   "source": [
    "On observe donc bien une plus forte correlation entre les notes de Fandango et RT_user norm tandis que cette corrélation semble la plus faible avec le site Metacritic_user_norm et IMDB_norm. "
   ]
  },
  {
   "cell_type": "markdown",
   "metadata": {},
   "source": [
    "### 4- Distribution de fréquences"
   ]
  },
  {
   "cell_type": "code",
   "execution_count": 61,
   "metadata": {},
   "outputs": [],
   "source": [
    "# On utilise la méthode value_counts() afin de retourner le décompte des fréquences de la colonne IMDB_norm\n",
    "# On trie le résultat par l'index donc le paramètre inplace = False, permet de ne pas affecter les données originales.\n",
    "imdb_distribution = norm_reviews['IMDB_norm'].value_counts().sort_index(inplace = False)"
   ]
  },
  {
   "cell_type": "code",
   "execution_count": 62,
   "metadata": {},
   "outputs": [
    {
     "data": {
      "text/plain": [
       "2.00     1\n",
       "2.10     1\n",
       "2.15     1\n",
       "2.20     1\n",
       "2.30     2\n",
       "2.45     2\n",
       "2.50     1\n",
       "2.55     1\n",
       "2.60     2\n",
       "2.70     4\n",
       "2.75     5\n",
       "2.80     2\n",
       "2.85     1\n",
       "2.90     1\n",
       "2.95     3\n",
       "3.00     2\n",
       "3.05     4\n",
       "3.10     1\n",
       "3.15     9\n",
       "3.20     6\n",
       "3.25     4\n",
       "3.30     9\n",
       "3.35     7\n",
       "3.40     1\n",
       "3.45     7\n",
       "3.50     4\n",
       "3.55     7\n",
       "3.60    10\n",
       "3.65     5\n",
       "3.70     8\n",
       "3.75     6\n",
       "3.80     3\n",
       "3.85     4\n",
       "3.90     9\n",
       "3.95     2\n",
       "4.00     1\n",
       "4.05     1\n",
       "4.10     4\n",
       "4.15     1\n",
       "4.20     2\n",
       "4.30     1\n",
       "Name: IMDB_norm, dtype: int64"
      ]
     },
     "execution_count": 62,
     "metadata": {},
     "output_type": "execute_result"
    }
   ],
   "source": [
    "# On a donc le nombre de fois où chaque note à été attribuée par le site IMDB à des films\n",
    "imdb_distribution"
   ]
  },
  {
   "cell_type": "code",
   "execution_count": 16,
   "metadata": {},
   "outputs": [
    {
     "data": {
      "image/png": "[encoded data removed]",
      "text/plain": [
       "<Figure size 432x288 with 1 Axes>"
      ]
     },
     "metadata": {
      "needs_background": "light"
     },
     "output_type": "display_data"
    }
   ],
   "source": [
    "# On initialise un sous_graphique\n",
    "fig, ax = plt.subplots()\n",
    "\n",
    "# On génère un histogramme qui nous affiche la fréquence de chacune des notes \n",
    "# On affiche le résultat sur une plage de 0 à 5 correspondant aux notations possible\n",
    "# On spécifique qu'il faut 20 classes grâce à l'argument bins\n",
    "ax.hist(norm_reviews[\"Fandango_Ratingvalue\"], range=(0,5), bins = 20)\n",
    "\n",
    "plt.show()\n"
   ]
  },
  {
   "cell_type": "markdown",
   "metadata": {},
   "source": [
    "Remarque : L'utilisation de range(0,5) en argument permet de spécifier le nom et la position des barres. En complément, les arguments xlim et ylim permettent de spécifier une champ d'affichage des axes. "
   ]
  },
  {
   "cell_type": "markdown",
   "metadata": {},
   "source": [
    "On observe ainsi, sur la distribution de fréquences que pour le site IMDB_norm, la note les plus fréquemment attribuée est 3.60 (10fois), alors que pour le site Fandango la note la plus fréquemment attribuée est supérieur à 4."
   ]
  },
  {
   "cell_type": "markdown",
   "metadata": {},
   "source": [
    "### 4.1- Comparaison d'histogrammes"
   ]
  },
  {
   "cell_type": "code",
   "execution_count": 155,
   "metadata": {},
   "outputs": [
    {
     "data": {
      "image/png": "[encoded data removed]",
      "text/plain": [
       "<Figure size 1080x576 with 4 Axes>"
      ]
     },
     "metadata": {
      "needs_background": "light"
     },
     "output_type": "display_data"
    }
   ],
   "source": [
    "fig = plt.figure(figsize = (15,8))\n",
    "\n",
    "# On initialise 4 sous-graphiques placés sur une ligne et 4 colonnes. \n",
    "ax1 = fig.add_subplot(1,4,1)\n",
    "ax2 = fig.add_subplot(1,4,2)\n",
    "ax3 = fig.add_subplot(1,4,3)\n",
    "ax4 = fig.add_subplot(1,4,4)\n",
    "\n",
    "# On génère un histogramme représentant la distribution de la fréquences des notes\n",
    "ax1.hist(norm_reviews[\"Fandango_Ratingvalue\"], bins = 20, range = (0,5))\n",
    "\n",
    "# On définit la plage d'affichage de l'axe des ordonnées ainsi que le titre. \n",
    "ax1.set_ylim(0,50)\n",
    "ax1.set_title(\"Notation selon Fandango\")\n",
    "\n",
    "ax2.hist(norm_reviews[\"RT_user_norm\"], bins = 20, range = (0,5))\n",
    "ax2.set_ylim(0,50)\n",
    "ax2.set_title(\"Notation selon Rotten Tomatoes\")\n",
    "\n",
    "ax3.hist(norm_reviews[\"Metacritic_user_nom\"], bins = 20, range = (0,5))\n",
    "ax3.set_ylim(0,50)\n",
    "ax3.set_title(\"Notation selon Metacritic\")\n",
    "\n",
    "ax4.hist(norm_reviews[\"IMDB_norm\"], bins = 20, range = (0,5))\n",
    "ax4.set_ylim(0,50)\n",
    "ax4.set_title(\"Notation selon IMDB\")\n",
    "\n",
    "plt.show()"
   ]
  },
  {
   "cell_type": "markdown",
   "metadata": {},
   "source": [
    "### 5- Plusieurs diagrammes à boîtes"
   ]
  },
  {
   "cell_type": "code",
   "execution_count": 129,
   "metadata": {},
   "outputs": [
    {
     "data": {
      "image/png": "[encoded data removed]",
      "text/plain": [
       "<Figure size 504x504 with 1 Axes>"
      ]
     },
     "metadata": {
      "needs_background": "light"
     },
     "output_type": "display_data"
    }
   ],
   "source": [
    "fig = plt.figure(figsize = (7,7)) \n",
    "\n",
    "# On créer un nouveau dataframe contenant les colonnes d'intérêts uniquement\n",
    "new_df = norm_reviews [[\"RT_user_norm\", \"Metacritic_user_nom\", \"IMDB_norm\", \"Fandango_Ratingvalue\"]]\n",
    "\n",
    "# On génère un diagramme à boite, l'argument grid = False fait disparaitre le quadrillage\n",
    "new_df.boxplot(grid = False)\n",
    "\n",
    "# On spécifie la plage d'affichage des ordonnées\n",
    "plt.ylim(0,5)\n",
    "\n",
    "# On affiche le label des diagramme orienté à 45°\n",
    "plt.xticks(rotation = 45)\n",
    "plt.show()"
   ]
  },
  {
   "cell_type": "markdown",
   "metadata": {},
   "source": [
    "On observe sur ce diagramme à boites que la moyenne des notes de films est équivalent pour RT_user_norm, Metacritic_user_nom et IMDB norm (environ 3.5/5) alors que les notes moyennes des film pour le site Fandango est de 4/5. \n",
    "Le site IMDB_norm compte le plus d'outliers et a la dispersion la plus faible, tandis que la dispersion est la plus élevée pour le site RT_user_norm. "
   ]
  },
  {
   "cell_type": "markdown",
   "metadata": {},
   "source": [
    "Conclusion: Il semblerait que les notes sur le site Fandango soient bien sur-évaluées pour augmenter les ventes. "
   ]
  },
  {
   "cell_type": "code",
   "execution_count": null,
   "metadata": {},
   "outputs": [],
   "source": []
  }
 ],
 "metadata": {
  "kernelspec": {
   "display_name": "Python 3",
   "language": "python",
   "name": "python3"
  },
  "language_info": {
   "codemirror_mode": {
    "name": "ipython",
    "version": 3
   },
   "file_extension": ".py",
   "mimetype": "text/x-python",
   "name": "python",
   "nbconvert_exporter": "python",
   "pygments_lexer": "ipython3",
   "version": "3.8.5"
  }
 },
 "nbformat": 4,
 "nbformat_minor": 4
}
